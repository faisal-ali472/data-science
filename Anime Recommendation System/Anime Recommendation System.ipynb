{
 "cells": [
  {
   "cell_type": "markdown",
   "metadata": {},
   "source": [
    "# Anime Recommendation System\n",
    "\n",
    "## Objective: \n",
    "    To build a recommendation system by studying, praticing & comparing different approaches and algorithms.\n",
    "    \n",
    "    Sub-Objectives:\n",
    "        - EDA, Data Mining\n",
    "        - Practice Supervised/Unsupervised techniques\n",
    "\n",
    "\n",
    "\n",
    "## Recommendation Systems:\n",
    "    Problem: \n",
    "        - Identifying User's need\n",
    "        - Excess/abundance of options/choices\n",
    "   \n",
    "    Solution: Recommend items that user most likely wants.\n",
    "\n",
    "###### Types:\n",
    "There are a lot of ideas in case of recommender sytems (recsys). Following are general types:\n",
    "\n",
    "    - Content Based        \n",
    "    - Collaborative Filtering (CF)\n",
    "    - Hybrid Recommender Systems\n",
    "    - Demographic Based\n",
    "    - Utility Based\n",
    "    - Knowledge Based\n",
    "    \n",
    "These systems are also divided into following types based on algorithmic approach:\n",
    "\n",
    "    - Neighborhood Based\n",
    "    - Latent Factor Model\n",
    "    - Classification\n",
    "    \n",
    "Note: There are many variations/flavors of RecSys depending on Data, Approach & Algorithms being used.\n",
    "\n",
    "\n",
    "## Scope:    \n",
    "For this project, I'll start with building a basic model. And move forward from there by applying more complex approaches and comparing the pros & cons along the way.\n",
    "\n",
    "\n",
    "## RoadMap:\n",
    "Data Set: Anime Recommendation\n",
    "\n",
    "###### 1. Fetch Data:\n",
    "    Files: \n",
    "        1. Anime.csv -> 'anime_id', 'name', 'genre', 'type', 'episodes', 'rating', 'members\n",
    "        2. Rating.csv -> 'user_id', 'anime_id', 'rating'\n",
    "\n",
    "###### 2. Wrangle, Prepare and Cleanse Data\n",
    "\n",
    "###### 3. Analyze, identify patterns, and explore the data.\n",
    "    - Exploratory Data Analysis\n",
    "    - Dimensionality Reduction using PCA\n",
    "    - Clustering using k-means and         \n",
    "    - Feature Extraction & Feature Selection\n",
    "    \n",
    "###### 4. Model, predict/recommendation.\n",
    "    \n",
    "######     4.1. Neighborhood Based \n",
    "    \n",
    "        4.1.1 Content Based Recommendation\n",
    "            - comparing similarity between different items' charactistics.\n",
    "            - item-item recommendation using item's features covariance matrix for calculating similarity.\n",
    "           \n",
    "        4.1.2 Collaborative Filtering \n",
    "            i) User-based Filtering \n",
    "            ii) Item-based Filtering        \n",
    "         \n",
    "######     4.2. Latent Factor Modeling\n",
    "        Matrix factorization using:\n",
    "            - Alternating Lease Square (ALS)/Singular Value Decomposition (SVD)/ Stocastic Gradient Descent/LDA\n",
    "        \n",
    "######     4.3. Model/Classifier Based Filtering\n",
    "                \n",
    "         Predictive Algorithms:\n",
    "            - Classification: Logistic Regression\n",
    "            - KNN\n",
    "            - Bayesian Classifier\n",
    "            - RBM (Neural Network)\n",
    "######     4.4. Hybrid Modeling\n",
    "        Here, we will try to combine different algorithms to overcome different issues like: Accuracy, Cold-start, stability, sparsity etc.\n",
    "                \n",
    "######     4.5. Association Rules\n",
    "    \n",
    "###### 5. Visualize, report, and present comparison and final solution.\n",
    "\n",
    "###### 6. Supply the results\n",
    "\n",
    "---------------------------------------------------------\n",
    "\n",
    "###### Acknowledgements:\n",
    "Dataset: Anime recommendation dataset from https://www.kaggle.com/CooperUnion/anime-recommendations-database. "
   ]
  },
  {
   "cell_type": "markdown",
   "metadata": {},
   "source": [
    "### 1. Fetch Data"
   ]
  },
  {
   "cell_type": "code",
   "execution_count": 1,
   "metadata": {
    "collapsed": true
   },
   "outputs": [],
   "source": [
    "# import libraries\n",
    "import numpy as np\n",
    "import pandas as pd\n",
    "import seaborn as sns\n",
    "from matplotlib import pyplot as plt\n",
    "\n",
    "%matplotlib inline"
   ]
  },
  {
   "cell_type": "code",
   "execution_count": 2,
   "metadata": {
    "collapsed": true
   },
   "outputs": [],
   "source": [
    "#load data\n",
    "anime = pd.read_csv('anime.csv')\n",
    "rating = pd.read_csv('rating.csv')"
   ]
  },
  {
   "cell_type": "markdown",
   "metadata": {},
   "source": [
    "### 2. Data Wrangling"
   ]
  },
  {
   "cell_type": "code",
   "execution_count": 3,
   "metadata": {
    "scrolled": true
   },
   "outputs": [
    {
     "name": "stdout",
     "output_type": "stream",
     "text": [
      "<class 'pandas.core.frame.DataFrame'>\n",
      "RangeIndex: 12294 entries, 0 to 12293\n",
      "Data columns (total 7 columns):\n",
      "anime_id    12294 non-null int64\n",
      "name        12294 non-null object\n",
      "genre       12232 non-null object\n",
      "type        12269 non-null object\n",
      "episodes    12294 non-null object\n",
      "rating      12064 non-null float64\n",
      "members     12294 non-null int64\n",
      "dtypes: float64(1), int64(2), object(4)\n",
      "memory usage: 672.4+ KB\n"
     ]
    }
   ],
   "source": [
    "anime.info()\n",
    "# what is the relationship of members with anime rating, and count of user ratings, episodes\n",
    "# missing values in genre, type, rating\n"
   ]
  },
  {
   "cell_type": "markdown",
   "metadata": {},
   "source": [
    "#### Data Cleaning\n",
    "Note: \n",
    "    - Use rating_count as feature for content based RS.\n",
    "    - make anime name into vector features using tf-idf/nltk\n",
    "    - find and remove outliers in the data"
   ]
  },
  {
   "cell_type": "code",
   "execution_count": 4,
   "metadata": {
    "collapsed": true,
    "scrolled": true
   },
   "outputs": [],
   "source": [
    "# Missing Values\n",
    "\n",
    "# replace Unknown episodes for Hentai, OVA & Movie with 1\n",
    "anime.loc[(anime[\"genre\"]==\"Hentai\") & (anime[\"episodes\"]==\"Unknown\"),\"episodes\"] = \"1\"\n",
    "anime.loc[(anime[\"type\"]==\"OVA\") & (anime[\"episodes\"]==\"Unknown\"),\"episodes\"] = \"1\"\n",
    "anime.loc[(anime[\"type\"] == \"Movie\") & (anime[\"episodes\"] == \"Unknown\")] = \"1\"\n",
    "\n",
    "# update number of episodes for known till Mar 2017.\n",
    "known_animes = {\"Naruto Shippuuden\":500, \"One Piece\":784,\"Detective Conan\":854, \"Dragon Ball Super\":86,\n",
    "                \"Crayon Shin chan\":942, \"Yu Gi Oh Arc V\":148,\"Shingeki no Kyojin Season 2\":25,\n",
    "                \"Boku no Hero Academia 2nd Season\":25,\"Little Witch Academia TV\":25}\n",
    "\n",
    "for k,v in known_animes.items():    \n",
    "    anime.loc[anime[\"name\"]==k,\"episodes\"] = v\n",
    "\n",
    "# replace remaining missing episodes with mean value of Type group.\n",
    "anime[\"episodes\"] = anime[\"episodes\"].map(lambda x:np.nan if x==\"Unknown\" else x).astype(float)\n",
    "\n",
    "anime.loc[anime.episodes.isnull(), 'episodes'] = anime.groupby('type').episodes.transform('median')\n",
    "\n",
    "# replace missing rating with mean value of Type, episodes\n",
    "anime[\"rating\"] = anime[\"rating\"].astype(float)\n",
    "\n",
    "anime.loc[anime.rating.isnull(), 'rating'] = anime.groupby('type').rating.transform('mean')\n",
    "\n",
    "# remove duplicate anime_ids (anime_id =1 , freq=3)\n",
    "anime.drop_duplicates('anime_id',keep='first',inplace= True)\n",
    "\n",
    "# remove record with multiple missing columns\n",
    "anime.dropna(inplace=True)\n",
    "\n",
    "#anime.to_csv(\"anime-updated.csv\")"
   ]
  },
  {
   "cell_type": "code",
   "execution_count": 5,
   "metadata": {
    "scrolled": false
   },
   "outputs": [],
   "source": [
    "# creating user data for analysis\n",
    "user_data = pd.DataFrame()\n",
    "user_data['anime_w'] = rating.groupby(by='user_id')['rating'].count()\n",
    "user_data['anime_r'] = rating[rating.rating > 0].groupby(by='user_id')['rating'].count()\n",
    "user_data['anime_nr'] = user_data['anime_w'] - user_data['anime_r']\n",
    "\n",
    "\n",
    "# cleaning rating.csv\n",
    "\n",
    "# removing outlier from rating.csv\n",
    "# user_id = 48766 is an outlier which can be observed by plotting graph b/w anime_watch and anime_rated.\n",
    "# rating by this user are not useful\n",
    "rating = rating[(rating['user_id'] != 48766) & (rating.rating > 0)]\n",
    "\n",
    "\n",
    "# drop ratings of removed titles\n",
    "drop_ratings = set(rating.anime_id.unique()) - set(anime.anime_id.unique())\n",
    "rating = rating[~rating.anime_id.isin(drop_ratings)]\n",
    "\n",
    "\n",
    "#user_data.corr()\n"
   ]
  },
  {
   "cell_type": "code",
   "execution_count": 6,
   "metadata": {
    "collapsed": true,
    "scrolled": true
   },
   "outputs": [],
   "source": [
    "# feature selection\n",
    "genre_list = anime[\"genre\"].str.get_dummies(sep=\",\")\n",
    "genre_list.drop('1', axis=1,inplace=True)\n",
    "anime_features = pd.concat([genre_list,pd.get_dummies(anime[\"type\"]),anime[[\"rating\"]],anime[[\"members\"]],anime[\"episodes\"]],axis=1)"
   ]
  },
  {
   "cell_type": "markdown",
   "metadata": {},
   "source": [
    "## 3. Analyze, identify patterns, and explore the data.\n",
    "    - Exploratory Data Analysis\n",
    "    - Dimensionality Reduction using PCA\n",
    "    - Clustering using k-means\n",
    "    - Feature Extraction & Feature Selection"
   ]
  },
  {
   "cell_type": "code",
   "execution_count": null,
   "metadata": {
    "scrolled": true
   },
   "outputs": [],
   "source": [
    "# analyzing genre data\n",
    "import collections\n",
    "g_list = [val.strip() for gen in anime['genre'].str.split(\",\") if type(gen) != float for val in gen]\n",
    "genre_counter = collections.Counter(g_list)\n",
    "genres = pd.DataFrame.from_dict(genre_counter, orient='index').reset_index().rename(columns={'index':'genre', 0:'count'})\n",
    "genres.sort_values('count', ascending=False, inplace=True)\n",
    "\n",
    "f, ax = plt.subplots(figsize=(8, 12))\n",
    "sns.barplot(x=\"count\", y=\"genre\", data=genres)\n",
    "ax.set(ylabel='Genre',xlabel=\"Anime Count\")\n"
   ]
  },
  {
   "cell_type": "code",
   "execution_count": null,
   "metadata": {
    "collapsed": true,
    "scrolled": true
   },
   "outputs": [],
   "source": [
    "\n",
    "#sns.lmplot('anime_w', 'anime_nr', user_data, fit_reg=False, )\n",
    "#sns.lmplot('anime_w', 'anime_r', user_data, fit_reg=False)\n",
    "#user_data.hist('anime_w', bins=25)\n",
    "user_data[user_data['anime_w'] > 2000].sort_values(by='anime_r', ascending=False)\n",
    "#user_data.plot()\n",
    "#user_anime_ids = \n",
    "user_anime_ids  = list(rating[rating['user_id']== 28521]['anime_id'])\n",
    "anime[anime.anime_id in user_anime_ids]\n",
    "#user_anime_list = anime.anime_id.isin(user_anime_ids)\n",
    "#user_anime_list"
   ]
  },
  {
   "cell_type": "code",
   "execution_count": 50,
   "metadata": {
    "collapsed": true
   },
   "outputs": [],
   "source": [
    "from sklearn.feature_extraction.text import CountVectorizer\n",
    "\n",
    "vectorizer = CountVectorizer(min_df=1)\n",
    "name_vec = list(vectorizer.fit_transform(anime['name']).toarray())\n"
   ]
  },
  {
   "cell_type": "code",
   "execution_count": 5,
   "metadata": {
    "scrolled": false
   },
   "outputs": [
    {
     "data": {
      "text/plain": [
       "99.08278218350279"
      ]
     },
     "execution_count": 5,
     "metadata": {},
     "output_type": "execute_result"
    }
   ],
   "source": [
    "from scipy import sparse\n",
    "import implicit\n",
    "\n",
    "# creating user-item rating sparse matrix\n",
    "user_list = list(np.sort(rating.user_id.unique())) # Get our unique customers\n",
    "anime_list = list(rating.anime_id.unique()) # Get our unique products that were purchased\n",
    "rating_list = list(rating.rating) # All of our purchases\n",
    "\n",
    "rows = rating.user_id.astype('category', categories = user_list).cat.codes \n",
    "# Get the associated row indices\n",
    "cols = rating.anime_id.astype('category', categories = anime_list).cat.codes \n",
    "# Get the associated column indices\n",
    "rating_sparse = sparse.csr_matrix((rating_list, (rows, cols)), shape=(len(user_list), len(anime_list)))\n",
    "\n",
    "# calculating matrix sparsity\n",
    "matrix_size = rating_sparse.shape[0]*rating_sparse.shape[1] # Number of possible interactions in the matrix\n",
    "num_purchases = len(rating_sparse.nonzero()[0]) # Number of items interacted with\n",
    "sparsity = 100*(1 - (num_purchases/float(matrix_size)))\n",
    "sparsity\n",
    "\n",
    "\n",
    "\n",
    "#rating.pivot(index='anime_id', columns='user_id', values='rating')\n",
    "#n_users = rating.user_id.nunique()\n",
    "#n_anime = rating.anime_id.nunique()\n",
    "\n",
    "#print(\"users: \" + str(n_users) + \" x  Anime: \" + str(n_anime))\n",
    "#rating.shape\n",
    "\n"
   ]
  },
  {
   "cell_type": "code",
   "execution_count": 11,
   "metadata": {},
   "outputs": [
    {
     "name": "stderr",
     "output_type": "stream",
     "text": [
      "No handlers could be found for logger \"implicit\"\n"
     ]
    }
   ],
   "source": [
    "alpha = 15\n",
    "user_vecs, item_vecs = implicit.alternating_least_squares((rating_sparse*alpha).astype('double'), \n",
    "                                                          factors=20, \n",
    "                                                          regularization = 0.1, \n",
    "                                                         iterations = 50)"
   ]
  },
  {
   "cell_type": "code",
   "execution_count": 38,
   "metadata": {},
   "outputs": [
    {
     "data": {
      "text/html": [
       "<div>\n",
       "<style>\n",
       "    .dataframe thead tr:only-child th {\n",
       "        text-align: right;\n",
       "    }\n",
       "\n",
       "    .dataframe thead th {\n",
       "        text-align: left;\n",
       "    }\n",
       "\n",
       "    .dataframe tbody tr th {\n",
       "        vertical-align: top;\n",
       "    }\n",
       "</style>\n",
       "<table border=\"1\" class=\"dataframe\">\n",
       "  <thead>\n",
       "    <tr style=\"text-align: right;\">\n",
       "      <th></th>\n",
       "      <th>anime_id</th>\n",
       "      <th>name</th>\n",
       "      <th>genre</th>\n",
       "      <th>type</th>\n",
       "      <th>episodes</th>\n",
       "      <th>rating</th>\n",
       "      <th>members</th>\n",
       "    </tr>\n",
       "  </thead>\n",
       "  <tbody>\n",
       "    <tr>\n",
       "      <th>724</th>\n",
       "      <td>15451</td>\n",
       "      <td>High School DxD New</td>\n",
       "      <td>Action, Comedy, Demons, Ecchi, Harem, Romance,...</td>\n",
       "      <td>TV</td>\n",
       "      <td>12</td>\n",
       "      <td>7.87</td>\n",
       "      <td>266657</td>\n",
       "    </tr>\n",
       "    <tr>\n",
       "      <th>804</th>\n",
       "      <td>11757</td>\n",
       "      <td>Sword Art Online</td>\n",
       "      <td>Action, Adventure, Fantasy, Game, Romance</td>\n",
       "      <td>TV</td>\n",
       "      <td>25</td>\n",
       "      <td>7.83</td>\n",
       "      <td>893100</td>\n",
       "    </tr>\n",
       "    <tr>\n",
       "      <th>1057</th>\n",
       "      <td>11617</td>\n",
       "      <td>High School DxD</td>\n",
       "      <td>Comedy, Demons, Ecchi, Harem, Romance, School</td>\n",
       "      <td>TV</td>\n",
       "      <td>12</td>\n",
       "      <td>7.70</td>\n",
       "      <td>398660</td>\n",
       "    </tr>\n",
       "    <tr>\n",
       "      <th>1709</th>\n",
       "      <td>8074</td>\n",
       "      <td>Highschool of the Dead</td>\n",
       "      <td>Action, Ecchi, Horror, Supernatural</td>\n",
       "      <td>TV</td>\n",
       "      <td>12</td>\n",
       "      <td>7.46</td>\n",
       "      <td>535892</td>\n",
       "    </tr>\n",
       "  </tbody>\n",
       "</table>\n",
       "</div>"
      ],
      "text/plain": [
       "      anime_id                    name  \\\n",
       "724      15451     High School DxD New   \n",
       "804      11757        Sword Art Online   \n",
       "1057     11617         High School DxD   \n",
       "1709      8074  Highschool of the Dead   \n",
       "\n",
       "                                                  genre type episodes  rating  \\\n",
       "724   Action, Comedy, Demons, Ecchi, Harem, Romance,...   TV       12    7.87   \n",
       "804           Action, Adventure, Fantasy, Game, Romance   TV       25    7.83   \n",
       "1057      Comedy, Demons, Ecchi, Harem, Romance, School   TV       12    7.70   \n",
       "1709                Action, Ecchi, Horror, Supernatural   TV       12    7.46   \n",
       "\n",
       "      members  \n",
       "724    266657  \n",
       "804    893100  \n",
       "1057   398660  \n",
       "1709   535892  "
      ]
     },
     "execution_count": 38,
     "metadata": {},
     "output_type": "execute_result"
    }
   ],
   "source": [
    "anime[anime.anime_id.isin(rating[rating['user_id']==1]['anime_id'])]\n",
    "#rating[rating.user_id == 1]"
   ]
  },
  {
   "cell_type": "markdown",
   "metadata": {},
   "source": [
    "#### Observation:\n",
    "    - in order to perform CF on full dataset, we require matrix of 7.8m x 7.8m \n",
    "    options:\n",
    "        i) take sample dataset to perform CF\n",
    "            - animes rated by a specific number of users (i.e. n> 50: to reduce dataset but increase user behavior detection\n",
    "        ii) find a way to reduce matrix or handle large matrix in python\n",
    "            - PyTable : to store tables on disk\n",
    "            - Scipy : sparse matrix"
   ]
  },
  {
   "cell_type": "markdown",
   "metadata": {},
   "source": [
    "### Data Mining\n",
    "\n",
    "Idea:\n",
    "    - split genres using dummies variables\n",
    "    - perform eigen vector analysis to find out PC count\n",
    "    - perform PCA with n_components\n",
    "    - combine transformed matrix with rest of the features (i.e. type, rating, member, name, count)\n",
    "    \n",
    "    does it work any better?"
   ]
  },
  {
   "cell_type": "markdown",
   "metadata": {
    "collapsed": true
   },
   "source": [
    "### Dimensionality Reduction \n",
    "    - using eigen decomposition"
   ]
  },
  {
   "cell_type": "code",
   "execution_count": 16,
   "metadata": {
    "collapsed": true
   },
   "outputs": [],
   "source": [
    "# Calculating Eigenvectors and eigenvalues  Cov matirx\n",
    "feature_mat = anime_features_scaler # genre_list\n",
    "mean_vec = np.mean(feature_mat, axis=0)\n",
    "cov_mat = np.cov(feature_mat.T)\n",
    "eig_vals, eig_vecs = np.linalg.eig(cov_mat)\n",
    "\n",
    "# Creating a list of (eigenval, eigenvec) tuples\n",
    "eig_pairs = [(np.abs(eig_vals[i]),eig_vecs[:,i]) for i in range(len(eig_vals))]\n",
    "\n",
    "# Sort from high to low\n",
    "eig_pairs.sort(key = lambda x: x[0], reverse= True)\n",
    "\n",
    "tot = sum(eig_vals)\n",
    "\n",
    "exp_var = [ (i/tot)*100 for i in sorted(eig_vals,reverse=True)]\n",
    "\n",
    "cum_exp_var = np.cumsum(exp_var)\n",
    "len(exp_var)"
   ]
  },
  {
   "cell_type": "code",
   "execution_count": 21,
   "metadata": {},
   "outputs": [
    {
     "data": {
      "image/png": "[encoded data removed]",
      "text/plain": [
       "<matplotlib.figure.Figure at 0x7f6bebcd4610>"
      ]
     },
     "metadata": {},
     "output_type": "display_data"
    }
   ],
   "source": [
    "# PLOT OUT THE EXPLAINED VARIANCES SUPERIMPOSED \n",
    "plt.figure(figsize=(10, 5))\n",
    "plt.bar(range(len(exp_var)), exp_var, alpha=0.3333, align='center', label='individual explained variance', color = 'g')\n",
    "plt.step(range(len(exp_var)), np.cumsum(exp_var), where='mid',label='cumulative explained variance')\n",
    "plt.ylabel('Explained variance ratio')\n",
    "plt.xlabel('Principal components')\n",
    "plt.legend(loc='best')\n",
    "plt.show()"
   ]
  },
  {
   "cell_type": "code",
   "execution_count": 136,
   "metadata": {
    "collapsed": true
   },
   "outputs": [],
   "source": [
    "# from above chart we can see about 50 PCs will cover 95% data\n",
    "\n",
    "# EDA using Unsupervised techniques\n",
    "# imports\n",
    "import matplotlib.pyplot as plt\n",
    "import pandas as pd\n",
    "\n",
    "from sklearn.decomposition import PCA as sklearnPCA\n",
    "from sklearn.discriminant_analysis import LinearDiscriminantAnalysis as LDA\n",
    "from sklearn import kernel_approximation\n",
    "\n",
    "from pandas.plotting import parallel_coordinates"
   ]
  },
  {
   "cell_type": "code",
   "execution_count": null,
   "metadata": {
    "collapsed": true
   },
   "outputs": [],
   "source": [
    "# kernel_approximation.\n",
    "\n",
    "feat_mat = anime_features_scaler\n",
    "pca = sklearnPCA(n_components=92)\n",
    "rpca = sklearnPCA(n_components=92, svd_solver='randomized')\n",
    "lda = LDA(n_components=92)\n",
    "#transformed = pca.fit_transform(MaxAbsScaler().fit_transform(genre_feature))\n",
    "transformed = pca.fit_transform(feat_mat)\n",
    "transformed = rpca.fit_transform(feat_mat)\n",
    "\n",
    "#headmap to show correlation of pca.components_ with original columns\n",
    "#df_comp = pd.DataFrame(pca.components_,columns=feat_mat.columns)\n",
    "#plt.figure(figsize=(20,8))\n",
    "#sns.heatmap(df_comp,cmap='plasma',)\n",
    "#sns.clustermap(df_comp,cmap='plasma',)"
   ]
  },
  {
   "cell_type": "code",
   "execution_count": 41,
   "metadata": {
    "scrolled": true
   },
   "outputs": [
    {
     "data": {
      "image/png": "[encoded data removed]",
      "text/plain": [
       "<matplotlib.figure.Figure at 0x7f6be92baa90>"
      ]
     },
     "metadata": {},
     "output_type": "display_data"
    }
   ],
   "source": [
    "# PLOT OUT THE EXPLAINED VARIANCES SUPERIMPOSED \n",
    "plt.figure(figsize=(10, 5))\n",
    "plt.bar(range(len(rpca.explained_variance_)), rpca.explained_variance_, alpha=0.3333, align='center', label='individual explained variance', color = 'g')\n",
    "plt.step(range(len(rpca.explained_variance_)), np.cumsum(rpca.explained_variance_), where='mid',label='cumulative explained variance')\n",
    "plt.ylabel('Explained variance ratio')\n",
    "plt.xlabel('Principal components')\n",
    "plt.legend(loc='best')\n",
    "plt.show()"
   ]
  },
  {
   "cell_type": "code",
   "execution_count": 24,
   "metadata": {
    "collapsed": true,
    "scrolled": true
   },
   "outputs": [],
   "source": [
    "# Set up the matplotlib figure\n",
    "f, ax = plt.subplots(figsize=(14, 14))\n",
    "plt.title('Pearson Correlation of Movie Features')\n",
    "# Draw the heatmap using seaborn\n",
    "sns.heatmap(pd.DataFrame(transformed).astype(float).corr(),vmax=1.0, square=True, cmap=\"YlGnBu\", linecolor='black', annot=True)"
   ]
  },
  {
   "cell_type": "code",
   "execution_count": 176,
   "metadata": {
    "scrolled": true
   },
   "outputs": [
    {
     "data": {
      "text/plain": [
       "<matplotlib.collections.PathCollection at 0x7f42916fe4d0>"
      ]
     },
     "execution_count": 176,
     "metadata": {},
     "output_type": "execute_result"
    },
    {
     "data": {
      "image/png": "[encoded data removed]",
      "text/plain": [
       "<matplotlib.figure.Figure at 0x7f429177c750>"
      ]
     },
     "metadata": {},
     "output_type": "display_data"
    }
   ],
   "source": [
    "#sns.plt.scatter(pca.components_[1], pca.components_[4])\n",
    "sns.plt.scatter(transformed[:,1], transformed[:,2],c='r',alpha=0.5)\n",
    "#sns.plt.scatter(transformed[:,1], transformed[:,2],c='b',alpha=0.5)\n"
   ]
  },
  {
   "cell_type": "code",
   "execution_count": null,
   "metadata": {
    "collapsed": true
   },
   "outputs": [],
   "source": [
    "predictions = model.predict(test_user_ids,\n",
    "                            test_item_ids,\n",
    "                            user_features=user_features,\n",
    "                            item_features=item_features)"
   ]
  },
  {
   "cell_type": "code",
   "execution_count": 56,
   "metadata": {
    "collapsed": true
   },
   "outputs": [],
   "source": [
    "plt.figure(figsize=(14, 10))\n",
    "plt.title('Explained Variance Ratio over Component')\n",
    "plt.plot(pca.explained_variance_ratio_)\n"
   ]
  },
  {
   "cell_type": "code",
   "execution_count": 177,
   "metadata": {
    "scrolled": true
   },
   "outputs": [
    {
     "data": {
      "text/plain": [
       "<matplotlib.collections.PathCollection at 0x7f42915d4ed0>"
      ]
     },
     "execution_count": 177,
     "metadata": {},
     "output_type": "execute_result"
    },
    {
     "data": {
      "image/png": "[encoded data removed]",
      "text/plain": [
       "<matplotlib.figure.Figure at 0x7f429177ce10>"
      ]
     },
     "metadata": {},
     "output_type": "display_data"
    }
   ],
   "source": [
    "plt.scatter(transformed[genre_feature['Comedy']==1,0],transformed[genre_feature['Comedy']==1,1], c='r')\n",
    "plt.scatter(transformed[genre_feature['Action']==1,0],transformed[genre_feature['Action']==1,1], c='g')\n",
    "plt.scatter(transformed[(genre_feature['Comedy']==0) & (genre_feature['Action']==0) & (genre_feature['Sci-Fi']==0),0],transformed[(genre_feature['Comedy']==0) & (genre_feature['Action']==0) & (genre_feature['Sci-Fi']==0),1], c='y')\n",
    "\n",
    "plt.scatter(transformed[genre_feature['Sci-Fi']==1,0],transformed[genre_feature['Sci-Fi']==1,1], c='b')\n"
   ]
  },
  {
   "cell_type": "code",
   "execution_count": 164,
   "metadata": {
    "collapsed": true
   },
   "outputs": [],
   "source": [
    "# KMeans clustering\n",
    "from sklearn.cluster import KMeans\n",
    "kmeans = KMeans(n_clusters = 10)\n",
    "kmeans.fit(transformed)\n",
    "labels = kmeans.labels_"
   ]
  },
  {
   "cell_type": "code",
   "execution_count": 184,
   "metadata": {
    "collapsed": true,
    "scrolled": false
   },
   "outputs": [],
   "source": [
    "pcs_df = pd.DataFrame(transformed)[[3,4,5,10]]\n",
    "pcs_df['c_labels'] = labels"
   ]
  },
  {
   "cell_type": "code",
   "execution_count": 55,
   "metadata": {
    "collapsed": true,
    "scrolled": false
   },
   "outputs": [],
   "source": [
    "sns.pairplot(pcs_df, hue='c_labels', palette= 'Dark2', diag_kind='kde',size=1.85)\n",
    "# plt.scatter(transformed[:,0], transformed[:,1], c=labels, cmap='rainbow', alpha=0.5)"
   ]
  },
  {
   "cell_type": "markdown",
   "metadata": {},
   "source": [
    "#### Feature Selection\n",
    "    Create different feature vectors and matrix required to build models in section 4.\n",
    "    \n",
    "    There are almost 70k users and 10k anime. Creating a user-item rating matrix would result in a large and very sparse matrix of 70k x 10k. To efficient use resources I'll be using scipy's sparse matrix."
   ]
  },
  {
   "cell_type": "code",
   "execution_count": 9,
   "metadata": {},
   "outputs": [
    {
     "name": "stdout",
     "output_type": "stream",
     "text": [
      "Info:\n",
      "Users:\t\t\t69600\n",
      "Anime:\t\t\t9893\n",
      "# of Ratings:\t\t6337147\n",
      "Matrix Size:\t\t688552800\n",
      "Matrix sparsity:\t99.0796425488\n"
     ]
    }
   ],
   "source": [
    "# Create user-item rating sparse matrix\n",
    "from scipy import sparse\n",
    "\n",
    "# Get unique user_id\n",
    "user_list = list(np.sort(rating.user_id.unique())) \n",
    "\n",
    "# Get unique anime_id\n",
    "anime_list = list(rating.anime_id.unique())  \n",
    "\n",
    "# Get Anime ratings\n",
    "rating_list = rating.rating.tolist() \n",
    "\n",
    "# Get the associated users indices\n",
    "users_cc = rating.user_id.astype('category', categories = user_list).cat.codes \n",
    "\n",
    "# Get the associated anime indices\n",
    "anime_cc = rating.anime_id.astype('category', categories = anime_list).cat.codes \n",
    "\n",
    "# Create a sparse coordinate matrix\n",
    "rating_sparse = sparse.coo_matrix((rating_list, (users_cc, anime_cc)), shape=(len(user_list), len(anime_list)))\n",
    "\n",
    "# calculating matrix sparsity\n",
    "matrix_size = rating_sparse.shape[0]*rating_sparse.shape[1] # Number of possible interactions in the matrix\n",
    "num_ratings = len(rating_sparse.nonzero()[0]) # Number of anime interacted with\n",
    "sparsity = 100*(1 - (num_ratings/float(matrix_size)))\n",
    "\n",
    "print(\"Info:\")\n",
    "print(\"Users:\\t\\t\\t\" + str(rating_sparse.shape[0]))\n",
    "print(\"Anime:\\t\\t\\t\" + str(rating_sparse.shape[1]))\n",
    "print(\"# of Ratings:\\t\\t\" + str(num_ratings))\n",
    "print(\"Matrix Size:\\t\\t\" + str(matrix_size))\n",
    "print(\"Matrix sparsity:\\t\" + str(sparsity))\n"
   ]
  },
  {
   "cell_type": "markdown",
   "metadata": {},
   "source": [
    "## 4. Model, predict/recommendation.\n",
    "    In this section I will try to create different models for recommendation system using different techniques from Data Mining."
   ]
  },
  {
   "cell_type": "markdown",
   "metadata": {},
   "source": [
    "###    4.1. Neighborhood Based \n",
    "    Recommendations based on similarity of users and/or items.\n",
    "    "
   ]
  },
  {
   "cell_type": "markdown",
   "metadata": {},
   "source": [
    "####        4.1.1 Content Based Recommendation\n",
    "        - Comparing similarity between different anime based on features.\n",
    "        - item-item recommendation using consine similarity for calculating similarity matrix.\n",
    "\n",
    "    Procedure:\n",
    "        - Standardize feature set \n",
    "        - Create item-item similarity matrix\n",
    "        - Generate recommendation based on top similar items.\n",
    "            "
   ]
  },
  {
   "cell_type": "code",
   "execution_count": 339,
   "metadata": {
    "scrolled": true
   },
   "outputs": [],
   "source": [
    "# features scaling\n",
    "from sklearn.preprocessing import StandardScaler\n",
    "\n",
    "anime_features_scaler = pd.DataFrame(StandardScaler().fit_transform(anime_features))"
   ]
  },
  {
   "cell_type": "code",
   "execution_count": 311,
   "metadata": {
    "scrolled": true
   },
   "outputs": [
    {
     "data": {
      "text/plain": [
       "(12207, 12207)"
      ]
     },
     "execution_count": 311,
     "metadata": {},
     "output_type": "execute_result"
    }
   ],
   "source": [
    "# item-item similarity based on item's attributes\n",
    "from sklearn.metrics.pairwise import cosine_similarity\n",
    "#from sklearn.metrics import jaccard_similarity_score\n",
    "\n",
    "sim_mat = cosine_similarity(anime_features_scaler)\n",
    "sim_mat.shape"
   ]
  },
  {
   "cell_type": "code",
   "execution_count": 312,
   "metadata": {
    "collapsed": true
   },
   "outputs": [],
   "source": [
    "# to get anime IDs from partial name\n",
    "# print(anime[anime.name.str.contains(partial)][['name','anime_id']])\n",
    "all_anime_names = list(anime.name.values)\n",
    "def get_id_from_partial_name(partial):\n",
    "    for name in all_anime_names:\n",
    "        if partial in name:\n",
    "            print(name,all_anime_names.index(name))"
   ]
  },
  {
   "cell_type": "code",
   "execution_count": 313,
   "metadata": {
    "collapsed": true
   },
   "outputs": [],
   "source": [
    "# sim_mat.shape\n",
    "def getSimilarItems(item, similarity_matrix, no_of_rec=5):\n",
    "    sorted_items = np.argsort(similarity_matrix[item])\n",
    "    reverse_sorted_items = sorted_items[::-1].tolist()\n",
    "    top_items = reverse_sorted_items[1:no_of_rec+1]\n",
    "    top_items_name = [anime.iloc[x]['name'] for x in top_items]\n",
    "    return top_items_name[:no_of_rec]"
   ]
  },
  {
   "cell_type": "markdown",
   "metadata": {},
   "source": [
    "#### Generating Recommendations:"
   ]
  },
  {
   "cell_type": "code",
   "execution_count": 336,
   "metadata": {},
   "outputs": [
    {
     "name": "stdout",
     "output_type": "stream",
     "text": [
      "('Shijou Saikyou no Deshi Kenichi', 260)\n",
      "('Shijou Saikyou no Deshi Kenichi OVA', 510)\n",
      "('Shijou Saikyou no Deshi Kenichi Specials', 2128)\n"
     ]
    }
   ],
   "source": [
    "get_id_from_partial_name('Kenichi')"
   ]
  },
  {
   "cell_type": "code",
   "execution_count": 338,
   "metadata": {
    "scrolled": false
   },
   "outputs": [
    {
     "data": {
      "text/plain": [
       "['Sakigake!! Otokojuku',\n",
       " 'Kakutou Bijin Wulong: Rebirth',\n",
       " 'Shijou Saikyou no Deshi Kenichi OVA',\n",
       " 'Sakigake!! Otokojuku Movie',\n",
       " 'Shijou Saikyou no Deshi Kenichi Specials']"
      ]
     },
     "execution_count": 338,
     "metadata": {},
     "output_type": "execute_result"
    }
   ],
   "source": [
    "getSimilarItems(260, sim_mat)"
   ]
  },
  {
   "cell_type": "code",
   "execution_count": 340,
   "metadata": {
    "scrolled": true
   },
   "outputs": [
    {
     "data": {
      "text/plain": [
       "['Dragon Ball Z',\n",
       " 'Naruto: Shippuuden',\n",
       " 'Naruto',\n",
       " 'Dragon Ball Kai',\n",
       " 'Dragon Ball Super']"
      ]
     },
     "execution_count": 340,
     "metadata": {},
     "output_type": "execute_result"
    }
   ],
   "source": [
    "# Dragon Ball: 346\n",
    "getSimilarItems(346, sim_mat)"
   ]
  },
  {
   "cell_type": "markdown",
   "metadata": {},
   "source": [
    "##### Content Based RS Observation:\n",
    "    - we have a matrix of (observations, features) = (12294, 93)\n",
    "    - in order to generate recommendations, find similarities of each item against all other items.\n",
    "    - which result in a 12294 x 12294 similarity matrix (151142436 similarity values)\n",
    "   "
   ]
  },
  {
   "cell_type": "markdown",
   "metadata": {},
   "source": [
    "#### 4.1.2 Collaborative Filtering \n",
    "    Generate recommendations by finding similar users/items using (explicit) rating feedback (user-item rating matrix)\n",
    "            \n",
    "    Types:\n",
    "        i) User-based Filtering\n",
    "        Find similar users based on their rating data on anime. Recommend anime that other users rated highly.\n",
    "        \n",
    "        ii) Item-based Filtering\n",
    "        Find similar items based on the rating of the users.\n",
    "        \n",
    "    Procedure:\n",
    "        i) Get user-item rating matrix M\n",
    "        ii) Normalize matrix and perform consine similarity for:\n",
    "            User Based Filter:\n",
    "            similarity between rows => sim(M) = 70k x 70k (too large for normal memory)\n",
    "            Item Based Filter:\n",
    "            similarity between cols => sim(M.transpose) = 10k x 10k\n",
    "        iii) Nearest Neighbors\n",
    "            - get indices and distance of user/item with its neighbors\n",
    "        iv) Recommend \n",
    "            - In case of user based filtering, get nearest neighbors and recommend items from their history based on similarity coefficient.\n",
    "        \n",
    "    Pros: \n",
    "        i) Personalised Recommendation\n",
    "        ii) Simple approach\n",
    "\n",
    "    Cons:\n",
    "        i) Memory & Computationality Expensive (i.e. sparse data handling, computations on large matrix)\n",
    "        ii) Cold-start (i.e. system works poorly for user/items with no or less history)\n",
    "             \n",
    "    "
   ]
  },
  {
   "cell_type": "markdown",
   "metadata": {},
   "source": [
    "    Possible Solutions (other than hardware upgrade or algorithm change):\n",
    "        i) Sample Data Set:\n",
    "            To avoid memory issues, a sample of data can be used to make our model. However it may result in accuracy loss.\n",
    "        ii) Use Sparse Matrix:\n",
    "            To some extent memory issue can also be resolved using sparse matrix (where data is very sparse)\n"
   ]
  },
  {
   "cell_type": "code",
   "execution_count": 371,
   "metadata": {
    "collapsed": true
   },
   "outputs": [],
   "source": [
    "# Make sample data for user-based CF to avoid memory issue.\n",
    "\n",
    "# Keep rating data for users who have watched anime between 50 and 1500\n",
    "filtered_users = user_data[(user_data.anime_r > 50) & (user_data.anime_w < 1000)].index.tolist()\n",
    "sub_rating = rating[rating.user_id.isin(filtered_users)]\n",
    "\n",
    "# from sub_rating, keep anime with more than 25 user ratings \n",
    "anime_rcount = sub_rating.groupby('anime_id')['rating'].count()\n",
    "sub_rating = sub_rating[sub_rating.anime_id.isin(anime_rcount[anime_rcount > 100].index.tolist())]\n",
    "\n",
    "anime_ids = sub_rating.anime_id.astype('category', categories = sub_rating.anime_id.unique()).cat.codes\n",
    "user_ids = sub_rating.user_id.astype('category', categories = sub_rating.user_id.unique()).cat.codes\n",
    "rating_s = sub_rating.rating\n",
    "\n"
   ]
  },
  {
   "cell_type": "code",
   "execution_count": 7,
   "metadata": {
    "scrolled": true
   },
   "outputs": [],
   "source": [
    "def get_index_from_name(name):\n",
    "    return anime[anime[\"name\"]==name].index.tolist()[0]\n",
    "    \n",
    "def print_similar_animes(query=None,id=None):\n",
    "    if id:\n",
    "        for id in indices[id][1:]:\n",
    "            print(anime.ix[id][\"name\"])\n",
    "    if query:\n",
    "        found_id = get_index_from_name(query)\n",
    "        for id in indices[found_id][1:]:\n",
    "            print(anime.ix[id][\"name\"])\n"
   ]
  },
  {
   "cell_type": "code",
   "execution_count": 10,
   "metadata": {},
   "outputs": [
    {
     "name": "stderr",
     "output_type": "stream",
     "text": [
      "/home/deeplearning/anaconda2/lib/python2.7/site-packages/sklearn/utils/validation.py:429: DataConversionWarning: Data with input dtype int64 was converted to float64 by the normalize function.\n",
      "  warnings.warn(msg, _DataConversionWarning)\n"
     ]
    }
   ],
   "source": [
    "#def get_user_recommendations(user_id, num_of_rec = 10):\n",
    "from sklearn.metrics.pairwise import cosine_similarity\n",
    "from sklearn.preprocessing import normalize\n",
    "\n",
    "# For sample data\n",
    "#item_similarity = pairwise_distances(sub_rating)\n",
    "\n",
    "# In case of Sparse Matrix \n",
    "rating_sparse = rating_sparse.tocsr()\n",
    "#rating_sparse = normalize(rating_sparse, norm='l1', axis=1)\n",
    "\n",
    "\n",
    "# Get user-user similarity matrix\n",
    "# user_similarity = pairwise_distances(rating_sparse, metric='cosine') \n",
    "\n",
    "# Get item-item similarity matrix by normalizing columns (transpose of matrix) and calculating consine similarity\n",
    "item_similarity_sparse = cosine_similarity(normalize(rating_sparse.transpose(), norm='l1', axis=1), dense_output=False)\n"
   ]
  },
  {
   "cell_type": "code",
   "execution_count": 11,
   "metadata": {},
   "outputs": [
    {
     "data": {
      "text/plain": [
       "NearestNeighbors(algorithm='auto', leaf_size=30, metric='minkowski',\n",
       "         metric_params=None, n_jobs=1, n_neighbors=6, p=2, radius=1.0)"
      ]
     },
     "execution_count": 11,
     "metadata": {},
     "output_type": "execute_result"
    }
   ],
   "source": [
    "# item-item similarity based on ratings\n",
    "from sklearn.neighbors import NearestNeighbors\n",
    "\n",
    "nbrs = NearestNeighbors(n_neighbors=6)\n",
    "nbrs.fit(item_similarity_sparse)"
   ]
  },
  {
   "cell_type": "markdown",
   "metadata": {},
   "source": [
    "#### Generating Recommendations:"
   ]
  },
  {
   "cell_type": "code",
   "execution_count": 12,
   "metadata": {},
   "outputs": [
    {
     "data": {
      "text/html": [
       "<div>\n",
       "<style>\n",
       "    .dataframe thead tr:only-child th {\n",
       "        text-align: right;\n",
       "    }\n",
       "\n",
       "    .dataframe thead th {\n",
       "        text-align: left;\n",
       "    }\n",
       "\n",
       "    .dataframe tbody tr th {\n",
       "        vertical-align: top;\n",
       "    }\n",
       "</style>\n",
       "<table border=\"1\" class=\"dataframe\">\n",
       "  <thead>\n",
       "    <tr style=\"text-align: right;\">\n",
       "      <th></th>\n",
       "      <th>anime_id</th>\n",
       "      <th>name</th>\n",
       "      <th>genre</th>\n",
       "      <th>type</th>\n",
       "      <th>episodes</th>\n",
       "      <th>rating</th>\n",
       "      <th>members</th>\n",
       "    </tr>\n",
       "  </thead>\n",
       "  <tbody>\n",
       "    <tr>\n",
       "      <th>582</th>\n",
       "      <td>269</td>\n",
       "      <td>Bleach</td>\n",
       "      <td>Action, Comedy, Shounen, Super Power, Supernat...</td>\n",
       "      <td>TV</td>\n",
       "      <td>366.0</td>\n",
       "      <td>7.95</td>\n",
       "      <td>624055</td>\n",
       "    </tr>\n",
       "    <tr>\n",
       "      <th>946</th>\n",
       "      <td>8247</td>\n",
       "      <td>Bleach Movie 4: Jigoku-hen</td>\n",
       "      <td>Action, Comedy, Shounen, Super Power, Supernat...</td>\n",
       "      <td>Movie</td>\n",
       "      <td>1.0</td>\n",
       "      <td>7.75</td>\n",
       "      <td>94074</td>\n",
       "    </tr>\n",
       "    <tr>\n",
       "      <th>1131</th>\n",
       "      <td>4835</td>\n",
       "      <td>Bleach Movie 3: Fade to Black - Kimi no Na wo ...</td>\n",
       "      <td>Action, Comedy, Shounen, Super Power, Supernat...</td>\n",
       "      <td>Movie</td>\n",
       "      <td>1.0</td>\n",
       "      <td>7.66</td>\n",
       "      <td>122373</td>\n",
       "    </tr>\n",
       "    <tr>\n",
       "      <th>1274</th>\n",
       "      <td>2889</td>\n",
       "      <td>Bleach Movie 2: The DiamondDust Rebellion - Mo...</td>\n",
       "      <td>Action, Adventure, Shounen, Supernatural</td>\n",
       "      <td>Movie</td>\n",
       "      <td>1.0</td>\n",
       "      <td>7.60</td>\n",
       "      <td>134739</td>\n",
       "    </tr>\n",
       "    <tr>\n",
       "      <th>1333</th>\n",
       "      <td>1686</td>\n",
       "      <td>Bleach Movie 1: Memories of Nobody</td>\n",
       "      <td>Action, Adventure, Super Power</td>\n",
       "      <td>Movie</td>\n",
       "      <td>1.0</td>\n",
       "      <td>7.58</td>\n",
       "      <td>151598</td>\n",
       "    </tr>\n",
       "  </tbody>\n",
       "</table>\n",
       "</div>"
      ],
      "text/plain": [
       "     anime_id                                               name  \\\n",
       "582       269                                             Bleach   \n",
       "946      8247                         Bleach Movie 4: Jigoku-hen   \n",
       "1131     4835  Bleach Movie 3: Fade to Black - Kimi no Na wo ...   \n",
       "1274     2889  Bleach Movie 2: The DiamondDust Rebellion - Mo...   \n",
       "1333     1686                 Bleach Movie 1: Memories of Nobody   \n",
       "\n",
       "                                                  genre   type  episodes  \\\n",
       "582   Action, Comedy, Shounen, Super Power, Supernat...     TV     366.0   \n",
       "946   Action, Comedy, Shounen, Super Power, Supernat...  Movie       1.0   \n",
       "1131  Action, Comedy, Shounen, Super Power, Supernat...  Movie       1.0   \n",
       "1274           Action, Adventure, Shounen, Supernatural  Movie       1.0   \n",
       "1333                     Action, Adventure, Super Power  Movie       1.0   \n",
       "\n",
       "      rating members  \n",
       "582     7.95  624055  \n",
       "946     7.75   94074  \n",
       "1131    7.66  122373  \n",
       "1274    7.60  134739  \n",
       "1333    7.58  151598  "
      ]
     },
     "execution_count": 12,
     "metadata": {},
     "output_type": "execute_result"
    }
   ],
   "source": [
    "# search anime to get recommendations for\n",
    "anime_name = \"Blea\"\n",
    "\n",
    "# display related titles (that also exist in ratings)\n",
    "anime[(anime.name.str.contains(anime_name)) & anime.anime_id.isin(rating.anime_id.unique().tolist())].head()\n",
    "\n"
   ]
  },
  {
   "cell_type": "code",
   "execution_count": 13,
   "metadata": {},
   "outputs": [
    {
     "name": "stdout",
     "output_type": "stream",
     "text": [
      "[[ 0.          1.54822235  1.64613411  1.80916427  1.93654043  2.02492846]]\n"
     ]
    },
    {
     "data": {
      "text/plain": [
       "array([[ 134,   35, 1059,    5, 1130, 1205]])"
      ]
     },
     "execution_count": 13,
     "metadata": {},
     "output_type": "execute_result"
    }
   ],
   "source": [
    "# calc. and display nearest neighbor of anime_id\n",
    "\n",
    "# Set anime_id to get distances and indices\n",
    "anime_id = 269\n",
    "# Angel Beats! 6547\n",
    "\n",
    "# get similarity col/row index from anime name\n",
    "similarity_col_id = anime_cc[rating[rating.anime_id == anime_id].index[0]]\n",
    "\n",
    "# find nearest neighbors\n",
    "distances, indices = nbrs.kneighbors(item_similarity_sparse[similarity_col_id])\n",
    "\n",
    "# print indices and their distances\n",
    "# first match is anime itself\n",
    "print(distances)\n",
    "indices"
   ]
  },
  {
   "cell_type": "code",
   "execution_count": 15,
   "metadata": {
    "scrolled": true
   },
   "outputs": [
    {
     "data": {
      "text/html": [
       "<div>\n",
       "<style>\n",
       "    .dataframe thead tr:only-child th {\n",
       "        text-align: right;\n",
       "    }\n",
       "\n",
       "    .dataframe thead th {\n",
       "        text-align: left;\n",
       "    }\n",
       "\n",
       "    .dataframe tbody tr th {\n",
       "        vertical-align: top;\n",
       "    }\n",
       "</style>\n",
       "<table border=\"1\" class=\"dataframe\">\n",
       "  <thead>\n",
       "    <tr style=\"text-align: right;\">\n",
       "      <th></th>\n",
       "      <th>anime_id</th>\n",
       "      <th>name</th>\n",
       "      <th>genre</th>\n",
       "      <th>type</th>\n",
       "      <th>episodes</th>\n",
       "      <th>rating</th>\n",
       "      <th>members</th>\n",
       "    </tr>\n",
       "  </thead>\n",
       "  <tbody>\n",
       "    <tr>\n",
       "      <th>175</th>\n",
       "      <td>1604</td>\n",
       "      <td>Katekyo Hitman Reborn!</td>\n",
       "      <td>Action, Comedy, Shounen, Super Power</td>\n",
       "      <td>TV</td>\n",
       "      <td>203.0</td>\n",
       "      <td>8.37</td>\n",
       "      <td>258103</td>\n",
       "    </tr>\n",
       "    <tr>\n",
       "      <th>288</th>\n",
       "      <td>6702</td>\n",
       "      <td>Fairy Tail</td>\n",
       "      <td>Action, Adventure, Comedy, Fantasy, Magic, Sho...</td>\n",
       "      <td>TV</td>\n",
       "      <td>175.0</td>\n",
       "      <td>8.22</td>\n",
       "      <td>584590</td>\n",
       "    </tr>\n",
       "    <tr>\n",
       "      <th>476</th>\n",
       "      <td>9513</td>\n",
       "      <td>Beelzebub</td>\n",
       "      <td>Action, Comedy, Demons, School, Shounen, Super...</td>\n",
       "      <td>TV</td>\n",
       "      <td>60.0</td>\n",
       "      <td>8.04</td>\n",
       "      <td>217752</td>\n",
       "    </tr>\n",
       "    <tr>\n",
       "      <th>841</th>\n",
       "      <td>20</td>\n",
       "      <td>Naruto</td>\n",
       "      <td>Action, Comedy, Martial Arts, Shounen, Super P...</td>\n",
       "      <td>TV</td>\n",
       "      <td>220.0</td>\n",
       "      <td>7.81</td>\n",
       "      <td>683297</td>\n",
       "    </tr>\n",
       "    <tr>\n",
       "      <th>946</th>\n",
       "      <td>8247</td>\n",
       "      <td>Bleach Movie 4: Jigoku-hen</td>\n",
       "      <td>Action, Comedy, Shounen, Super Power, Supernat...</td>\n",
       "      <td>Movie</td>\n",
       "      <td>1.0</td>\n",
       "      <td>7.75</td>\n",
       "      <td>94074</td>\n",
       "    </tr>\n",
       "  </tbody>\n",
       "</table>\n",
       "</div>"
      ],
      "text/plain": [
       "    anime_id                        name  \\\n",
       "175     1604      Katekyo Hitman Reborn!   \n",
       "288     6702                  Fairy Tail   \n",
       "476     9513                   Beelzebub   \n",
       "841       20                      Naruto   \n",
       "946     8247  Bleach Movie 4: Jigoku-hen   \n",
       "\n",
       "                                                 genre   type  episodes  \\\n",
       "175               Action, Comedy, Shounen, Super Power     TV     203.0   \n",
       "288  Action, Adventure, Comedy, Fantasy, Magic, Sho...     TV     175.0   \n",
       "476  Action, Comedy, Demons, School, Shounen, Super...     TV      60.0   \n",
       "841  Action, Comedy, Martial Arts, Shounen, Super P...     TV     220.0   \n",
       "946  Action, Comedy, Shounen, Super Power, Supernat...  Movie       1.0   \n",
       "\n",
       "     rating members  \n",
       "175    8.37  258103  \n",
       "288    8.22  584590  \n",
       "476    8.04  217752  \n",
       "841    7.81  683297  \n",
       "946    7.75   94074  "
      ]
     },
     "execution_count": 15,
     "metadata": {},
     "output_type": "execute_result"
    }
   ],
   "source": [
    "# display recommendations \n",
    "\n",
    "# get anime name from similarity\n",
    "#anime[anime.anime_id == list(rating.loc[anime_cc[anime_cc == 448].index]['anime_id'])[0]]\n",
    "\n",
    "\n",
    "# get anime list from indices\n",
    "temp_list = anime_cc[anime_cc.isin(indices[0][1:])]\n",
    "anime[anime.anime_id.isin(rating.loc[temp_list.drop_duplicates().index]['anime_id'].tolist())]"
   ]
  },
  {
   "cell_type": "markdown",
   "metadata": {
    "collapsed": true
   },
   "source": [
    "#### To-do: Implement Collaborative Filtering using \"Weighter Slop One\" Recommendations \n",
    "\n",
    "Reference Book: Data Mining Ch # 3"
   ]
  },
  {
   "cell_type": "code",
   "execution_count": null,
   "metadata": {
    "collapsed": true
   },
   "outputs": [],
   "source": []
  }
 ],
 "metadata": {
  "kernelspec": {
   "display_name": "Python 3",
   "language": "python",
   "name": "python3"
  },
  "language_info": {
   "codemirror_mode": {
    "name": "ipython",
    "version": 2
   },
   "file_extension": ".py",
   "mimetype": "text/x-python",
   "name": "python",
   "nbconvert_exporter": "python",
   "pygments_lexer": "ipython2",
   "version": "2.7.13"
  }
 },
 "nbformat": 4,
 "nbformat_minor": 2
}
