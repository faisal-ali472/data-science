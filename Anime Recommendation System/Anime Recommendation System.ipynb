{
 "cells": [
  {
   "cell_type": "markdown",
   "metadata": {},
   "source": [
    "# Anime Recommendation System\n",
    "\n",
    "### Objective: \n",
    "    To build an anime recommendation system. \n",
    "  \n",
    "Dataset: Anime recommendation dataset from https://www.kaggle.com/CooperUnion/anime-recommendations-database. \n",
    "\n",
    "Recommendation Systems:\n",
    "    Problem: \n",
    "        - Identifying User's need\n",
    "        - Excess/abundance of options/choices\n",
    "   \n",
    "    Solution: Recommend user items that he/she most likely wants.\n",
    "    Filtering:\n",
    "        i) item-item\n",
    "        ii) user-item\n",
    "\n",
    "There are a lot of ideas in case of recommender sytems (recsys). Following are general types:\n",
    "\n",
    "    - Content Based        \n",
    "    - Collaborative Filtering (CF)\n",
    "    - Hybrid Recommender Systems\n",
    "    - Demographic Based\n",
    "    - Utility Based\n",
    "    - Knowledge Based\n",
    "    \n",
    "There are also subtypes based on algorithmic approach:\n",
    "    - Memory Based \n",
    "    - Model Based\n",
    "    \n",
    "Note: There are many variations/flavors of RecSys depending on Data, Approach & Algorithm used.\n",
    "\n",
    "\n",
    "\n",
    "### Scope:\n",
    "    \n",
    "For this project, I'll start with building a basic model. And move forward from there by applying more complex approaches and comparing the results along the way.\n",
    "\n",
    "#### RoadMap:\n",
    "Data Set: Anime Recommendation\n",
    "\n",
    "1. Fetch Data:\n",
    "    Files: \n",
    "        1. Anime.csv -> 'anime_id', 'name', 'genre', 'type', 'episodes', 'rating', 'members\n",
    "        2. Rating.csv -> 'user_id', 'anime_id', 'rating'\n",
    "\n",
    "2. Wrangle, Prepare and Cleanse Data\n",
    "\n",
    "3. Analyze, identify patterns, and explore the data.\n",
    "    - Exploratory Data Analysis\n",
    "    - Dimensionality Reduction using PCA\n",
    "    - Clustering using k-means and         \n",
    "    - Feature Extraction & Feature Selection\n",
    "    \n",
    "4. Model, predict/recommendation.\n",
    "    4.1. Memory Based Filtering\n",
    "    \n",
    "        4.1.1 Content Based Recommendation\n",
    "            - comparing similarity between different items' charactistics.\n",
    "            - item-item recommendation using item's features covariance matrix for calculating similarity.\n",
    "           \n",
    "        4.1.2 Collaborative Filtering \n",
    "            - Generate recommendation by finding user's with similar taste using explicit feedback (user-item rating matrix)\n",
    "            \n",
    "            ref link: https://medium.com/ml-algorithms/collaborative-filtering-in-python-56e7fe9a5a8d\n",
    "        \n",
    "         \n",
    "    4.2. Latent Factor Modeling\n",
    "        Matrix factorization using:\n",
    "            - Alternating Lease Square (ALS)/Singular Value Decomposition (SVD)/ Stocastic Gradient Descent\n",
    "        \n",
    "    4.3. Model Based Filtering\n",
    "        i) Content Based Recommendation\n",
    "            - item-item recommendation using item's features covariance matrix for calculating similarity.\n",
    "           \n",
    "        ii) Collaborative Filtering \n",
    "            - Generate recommendation by finding user's with similar taste using explicit feedback (user-item rating matrix)\n",
    "        \n",
    "         Predictive Algorithms:\n",
    "            - Classification: Logistic Regression\n",
    "            - KNN\n",
    "            - Bayesian Classifier\n",
    "            - RBM (Neural Network)\n",
    "    4.4. Hybrid Modeling\n",
    "        Here, we will try to combine different algorithms to overcome different issues like: Accuracy, Cold-start, stability, sparsity etc.\n",
    "        Seven hybridization techniques:\n",
    "            - Weighted: The score of different recommendation components are combined numerically.\n",
    "            - Switching: The system chooses among recommendation components and applies the selected one.\n",
    "            - Mixed: Recommendations from different recommenders are presented together.\n",
    "            - Feature Combination: Features derived from different knowledge sources are combined together and given to a single recommendation algorithm.\n",
    "            - Feature Augmentation: One recommendation technique is used to compute a feature or set of features, which is then part of the input to the next technique.\n",
    "            - Cascade: Recommenders are given strict priority, with the lower priority ones breaking ties in the scoring of the higher ones.\n",
    "            - Meta-level: One recommendation technique is applied and produces some sort of model, which is then the input used by the next technique.\n",
    "        \n",
    "    4.5. Association Rules\n",
    "    \n",
    "5. Visualize, report, and present comparison and final solution.\n",
    "\n",
    "6. Supply the results\n",
    "\n",
    "\n"
   ]
  },
  {
   "cell_type": "markdown",
   "metadata": {},
   "source": [
    "### 1. Fetch Data"
   ]
  },
  {
   "cell_type": "code",
   "execution_count": 1,
   "metadata": {
    "collapsed": true
   },
   "outputs": [],
   "source": [
    "# import libraries\n",
    "import numpy as np\n",
    "import pandas as pd\n",
    "import seaborn as sns\n",
    "from matplotlib import pyplot as plt\n",
    "\n",
    "%matplotlib inline"
   ]
  },
  {
   "cell_type": "code",
   "execution_count": 2,
   "metadata": {
    "collapsed": true
   },
   "outputs": [],
   "source": [
    "#load data\n",
    "anime = pd.read_csv('anime.csv')\n",
    "rating = pd.read_csv('rating.csv')"
   ]
  },
  {
   "cell_type": "markdown",
   "metadata": {},
   "source": [
    "### 2. Data Wrangling"
   ]
  },
  {
   "cell_type": "code",
   "execution_count": 3,
   "metadata": {
    "scrolled": false
   },
   "outputs": [
    {
     "name": "stdout",
     "output_type": "stream",
     "text": [
      "<class 'pandas.core.frame.DataFrame'>\n",
      "RangeIndex: 12294 entries, 0 to 12293\n",
      "Data columns (total 7 columns):\n",
      "anime_id    12294 non-null int64\n",
      "name        12294 non-null object\n",
      "genre       12232 non-null object\n",
      "type        12269 non-null object\n",
      "episodes    12294 non-null object\n",
      "rating      12064 non-null float64\n",
      "members     12294 non-null int64\n",
      "dtypes: float64(1), int64(2), object(4)\n",
      "memory usage: 672.4+ KB\n"
     ]
    }
   ],
   "source": [
    "anime.info()\n",
    "# what is the relationship of members with anime rating, and count of user ratings, episodes\n",
    "# missing values in genre, type, rating\n"
   ]
  },
  {
   "cell_type": "markdown",
   "metadata": {},
   "source": [
    "### Data Cleaning\n",
    "Note: \n",
    "    - Use rating_count as feature for content based RS.\n",
    "    - make anime name into vector features using tf-idf/nltk\n",
    "    - A few entries has genre = '1', fix the issue"
   ]
  },
  {
   "cell_type": "code",
   "execution_count": 4,
   "metadata": {
    "collapsed": true,
    "scrolled": true
   },
   "outputs": [],
   "source": [
    "# Missing Values\n",
    "\n",
    "# replace Unknown episodes for Hentai, OVA & Movie with 1\n",
    "anime.loc[(anime[\"genre\"]==\"Hentai\") & (anime[\"episodes\"]==\"Unknown\"),\"episodes\"] = \"1\"\n",
    "anime.loc[(anime[\"type\"]==\"OVA\") & (anime[\"episodes\"]==\"Unknown\"),\"episodes\"] = \"1\"\n",
    "anime.loc[(anime[\"type\"] == \"Movie\") & (anime[\"episodes\"] == \"Unknown\")] = \"1\"\n",
    "\n",
    "# update number of episodes for known till Mar 2017.\n",
    "known_animes = {\"Naruto Shippuuden\":500, \"One Piece\":784,\"Detective Conan\":854, \"Dragon Ball Super\":86,\n",
    "                \"Crayon Shin chan\":942, \"Yu Gi Oh Arc V\":148,\"Shingeki no Kyojin Season 2\":25,\n",
    "                \"Boku no Hero Academia 2nd Season\":25,\"Little Witch Academia TV\":25}\n",
    "\n",
    "for k,v in known_animes.items():    \n",
    "    anime.loc[anime[\"name\"]==k,\"episodes\"] = v\n",
    "\n",
    "# replace remaining missing episodes with mean value of Type group.\n",
    "anime[\"episodes\"] = anime[\"episodes\"].map(lambda x:np.nan if x==\"Unknown\" else x).astype(float)\n",
    "\n",
    "anime.loc[anime.episodes.isnull(), 'episodes'] = anime.groupby('type').episodes.transform('median')\n",
    "\n",
    "# replace missing rating with mean value of Type, episodes\n",
    "anime[\"rating\"] = anime[\"rating\"].astype(float)\n",
    "\n",
    "anime.loc[anime.rating.isnull(), 'rating'] = anime.groupby('type').rating.transform('mean')\n",
    "\n",
    "# remove duplicate anime_ids (anime_id =1 , freq=3)\n",
    "anime.drop_duplicates('anime_id',keep='first',inplace= True)\n",
    "\n",
    "# remove record with multiple missing columns\n",
    "anime.dropna(inplace=True)\n",
    "\n",
    "#anime.to_csv(\"anime-updated.csv\")"
   ]
  },
  {
   "cell_type": "code",
   "execution_count": 6,
   "metadata": {
    "scrolled": false
   },
   "outputs": [
    {
     "data": {
      "text/html": [
       "<div>\n",
       "<style>\n",
       "    .dataframe thead tr:only-child th {\n",
       "        text-align: right;\n",
       "    }\n",
       "\n",
       "    .dataframe thead th {\n",
       "        text-align: left;\n",
       "    }\n",
       "\n",
       "    .dataframe tbody tr th {\n",
       "        vertical-align: top;\n",
       "    }\n",
       "</style>\n",
       "<table border=\"1\" class=\"dataframe\">\n",
       "  <thead>\n",
       "    <tr style=\"text-align: right;\">\n",
       "      <th></th>\n",
       "      <th>anime_id</th>\n",
       "      <th>name</th>\n",
       "      <th>genre</th>\n",
       "      <th>type</th>\n",
       "      <th>episodes</th>\n",
       "      <th>rating</th>\n",
       "      <th>members</th>\n",
       "    </tr>\n",
       "  </thead>\n",
       "  <tbody>\n",
       "    <tr>\n",
       "      <th>count</th>\n",
       "      <td>12207.0</td>\n",
       "      <td>12207</td>\n",
       "      <td>12207</td>\n",
       "      <td>12207</td>\n",
       "      <td>12207.000000</td>\n",
       "      <td>12207.000000</td>\n",
       "      <td>12207.0</td>\n",
       "    </tr>\n",
       "    <tr>\n",
       "      <th>unique</th>\n",
       "      <td>12207.0</td>\n",
       "      <td>12205</td>\n",
       "      <td>3260</td>\n",
       "      <td>7</td>\n",
       "      <td>NaN</td>\n",
       "      <td>NaN</td>\n",
       "      <td>6691.0</td>\n",
       "    </tr>\n",
       "    <tr>\n",
       "      <th>top</th>\n",
       "      <td>18061.0</td>\n",
       "      <td>Shi Wan Ge Leng Xiaohua</td>\n",
       "      <td>Hentai</td>\n",
       "      <td>TV</td>\n",
       "      <td>NaN</td>\n",
       "      <td>NaN</td>\n",
       "      <td>60.0</td>\n",
       "    </tr>\n",
       "    <tr>\n",
       "      <th>freq</th>\n",
       "      <td>1.0</td>\n",
       "      <td>2</td>\n",
       "      <td>823</td>\n",
       "      <td>3777</td>\n",
       "      <td>NaN</td>\n",
       "      <td>NaN</td>\n",
       "      <td>36.0</td>\n",
       "    </tr>\n",
       "    <tr>\n",
       "      <th>mean</th>\n",
       "      <td>NaN</td>\n",
       "      <td>NaN</td>\n",
       "      <td>NaN</td>\n",
       "      <td>NaN</td>\n",
       "      <td>12.659703</td>\n",
       "      <td>6.480434</td>\n",
       "      <td>NaN</td>\n",
       "    </tr>\n",
       "    <tr>\n",
       "      <th>std</th>\n",
       "      <td>NaN</td>\n",
       "      <td>NaN</td>\n",
       "      <td>NaN</td>\n",
       "      <td>NaN</td>\n",
       "      <td>47.546728</td>\n",
       "      <td>1.018056</td>\n",
       "      <td>NaN</td>\n",
       "    </tr>\n",
       "    <tr>\n",
       "      <th>min</th>\n",
       "      <td>NaN</td>\n",
       "      <td>NaN</td>\n",
       "      <td>NaN</td>\n",
       "      <td>NaN</td>\n",
       "      <td>1.000000</td>\n",
       "      <td>1.000000</td>\n",
       "      <td>NaN</td>\n",
       "    </tr>\n",
       "    <tr>\n",
       "      <th>25%</th>\n",
       "      <td>NaN</td>\n",
       "      <td>NaN</td>\n",
       "      <td>NaN</td>\n",
       "      <td>NaN</td>\n",
       "      <td>1.000000</td>\n",
       "      <td>5.900000</td>\n",
       "      <td>NaN</td>\n",
       "    </tr>\n",
       "    <tr>\n",
       "      <th>50%</th>\n",
       "      <td>NaN</td>\n",
       "      <td>NaN</td>\n",
       "      <td>NaN</td>\n",
       "      <td>NaN</td>\n",
       "      <td>2.000000</td>\n",
       "      <td>6.570000</td>\n",
       "      <td>NaN</td>\n",
       "    </tr>\n",
       "    <tr>\n",
       "      <th>75%</th>\n",
       "      <td>NaN</td>\n",
       "      <td>NaN</td>\n",
       "      <td>NaN</td>\n",
       "      <td>NaN</td>\n",
       "      <td>12.000000</td>\n",
       "      <td>7.170000</td>\n",
       "      <td>NaN</td>\n",
       "    </tr>\n",
       "    <tr>\n",
       "      <th>max</th>\n",
       "      <td>NaN</td>\n",
       "      <td>NaN</td>\n",
       "      <td>NaN</td>\n",
       "      <td>NaN</td>\n",
       "      <td>1818.000000</td>\n",
       "      <td>10.000000</td>\n",
       "      <td>NaN</td>\n",
       "    </tr>\n",
       "  </tbody>\n",
       "</table>\n",
       "</div>"
      ],
      "text/plain": [
       "        anime_id                     name   genre   type      episodes  \\\n",
       "count    12207.0                    12207   12207  12207  12207.000000   \n",
       "unique   12207.0                    12205    3260      7           NaN   \n",
       "top      18061.0  Shi Wan Ge Leng Xiaohua  Hentai     TV           NaN   \n",
       "freq         1.0                        2     823   3777           NaN   \n",
       "mean         NaN                      NaN     NaN    NaN     12.659703   \n",
       "std          NaN                      NaN     NaN    NaN     47.546728   \n",
       "min          NaN                      NaN     NaN    NaN      1.000000   \n",
       "25%          NaN                      NaN     NaN    NaN      1.000000   \n",
       "50%          NaN                      NaN     NaN    NaN      2.000000   \n",
       "75%          NaN                      NaN     NaN    NaN     12.000000   \n",
       "max          NaN                      NaN     NaN    NaN   1818.000000   \n",
       "\n",
       "              rating  members  \n",
       "count   12207.000000  12207.0  \n",
       "unique           NaN   6691.0  \n",
       "top              NaN     60.0  \n",
       "freq             NaN     36.0  \n",
       "mean        6.480434      NaN  \n",
       "std         1.018056      NaN  \n",
       "min         1.000000      NaN  \n",
       "25%         5.900000      NaN  \n",
       "50%         6.570000      NaN  \n",
       "75%         7.170000      NaN  \n",
       "max        10.000000      NaN  "
      ]
     },
     "execution_count": 6,
     "metadata": {},
     "output_type": "execute_result"
    }
   ],
   "source": [
    "anime.describe(include='all')"
   ]
  },
  {
   "cell_type": "code",
   "execution_count": 34,
   "metadata": {},
   "outputs": [
    {
     "data": {
      "text/plain": [
       "[<matplotlib.text.Text at 0x7fe17ec58f90>,\n",
       " <matplotlib.text.Text at 0x7fe17f06f050>]"
      ]
     },
     "execution_count": 34,
     "metadata": {},
     "output_type": "execute_result"
    },
    {
     "data": {
      "image/png": "[encoded data removed]",
      "text/plain": [
       "<matplotlib.figure.Figure at 0x7fe17fdc59d0>"
      ]
     },
     "metadata": {},
     "output_type": "display_data"
    }
   ],
   "source": [
    "# analyzing genre data\n",
    "import collections\n",
    "g_list = [val.strip() for gen in anime['genre'].str.split(\",\") if type(gen) != float for val in gen]\n",
    "genre_counter = collections.Counter(g_list)\n",
    "genres = pd.DataFrame.from_dict(genre_counter, orient='index').reset_index().rename(columns={'index':'genre', 0:'count'})\n",
    "genres.sort_values('count', ascending=False, inplace=True)\n",
    "\n",
    "f, ax = plt.subplots(figsize=(8, 12))\n",
    "sns.barplot(x=\"count\", y=\"genre\", data=genres)\n",
    "ax.set(ylabel='Genre',xlabel=\"Anime Count\")\n"
   ]
  },
  {
   "cell_type": "code",
   "execution_count": 9,
   "metadata": {
    "scrolled": false
   },
   "outputs": [
    {
     "data": {
      "text/html": [
       "<div>\n",
       "<style>\n",
       "    .dataframe thead tr:only-child th {\n",
       "        text-align: right;\n",
       "    }\n",
       "\n",
       "    .dataframe thead th {\n",
       "        text-align: left;\n",
       "    }\n",
       "\n",
       "    .dataframe tbody tr th {\n",
       "        vertical-align: top;\n",
       "    }\n",
       "</style>\n",
       "<table border=\"1\" class=\"dataframe\">\n",
       "  <thead>\n",
       "    <tr style=\"text-align: right;\">\n",
       "      <th></th>\n",
       "      <th>anime_w</th>\n",
       "      <th>anime_r</th>\n",
       "      <th>anime_nr</th>\n",
       "    </tr>\n",
       "  </thead>\n",
       "  <tbody>\n",
       "    <tr>\n",
       "      <th>anime_w</th>\n",
       "      <td>1.0</td>\n",
       "      <td>1.0</td>\n",
       "      <td>NaN</td>\n",
       "    </tr>\n",
       "    <tr>\n",
       "      <th>anime_r</th>\n",
       "      <td>1.0</td>\n",
       "      <td>1.0</td>\n",
       "      <td>NaN</td>\n",
       "    </tr>\n",
       "    <tr>\n",
       "      <th>anime_nr</th>\n",
       "      <td>NaN</td>\n",
       "      <td>NaN</td>\n",
       "      <td>NaN</td>\n",
       "    </tr>\n",
       "  </tbody>\n",
       "</table>\n",
       "</div>"
      ],
      "text/plain": [
       "          anime_w  anime_r  anime_nr\n",
       "anime_w       1.0      1.0       NaN\n",
       "anime_r       1.0      1.0       NaN\n",
       "anime_nr      NaN      NaN       NaN"
      ]
     },
     "execution_count": 9,
     "metadata": {},
     "output_type": "execute_result"
    }
   ],
   "source": [
    "# creating user data for analysis\n",
    "user_data = pd.DataFrame()\n",
    "user_data['anime_w'] = rating.groupby(by='user_id')['rating'].count()\n",
    "user_data['anime_r'] = rating[rating.rating > 0].groupby(by='user_id')['rating'].count()\n",
    "user_data['anime_nr'] = user_data['anime_w'] - user_data['anime_r']\n",
    "\n",
    "# cleaning rating.csv\n",
    "# removing outlier from rating.csv\n",
    "# user_id = 48766 is an outlier which can be observed by plotting graph b/w anime_watch and anime_rated.\n",
    "# rating by this user are not useful\n",
    "rating = rating[rating['user_id'] != 48766]\n",
    "rating = rating[rating.rating > 0]\n",
    "\n",
    "\n",
    "user_data.corr()\n"
   ]
  },
  {
   "cell_type": "code",
   "execution_count": 41,
   "metadata": {
    "scrolled": false
   },
   "outputs": [
    {
     "data": {
      "text/html": [
       "<div>\n",
       "<style>\n",
       "    .dataframe thead tr:only-child th {\n",
       "        text-align: right;\n",
       "    }\n",
       "\n",
       "    .dataframe thead th {\n",
       "        text-align: left;\n",
       "    }\n",
       "\n",
       "    .dataframe tbody tr th {\n",
       "        vertical-align: top;\n",
       "    }\n",
       "</style>\n",
       "<table border=\"1\" class=\"dataframe\">\n",
       "  <thead>\n",
       "    <tr style=\"text-align: right;\">\n",
       "      <th></th>\n",
       "      <th>anime_nr</th>\n",
       "      <th>anime_w</th>\n",
       "      <th>anime_r</th>\n",
       "    </tr>\n",
       "  </thead>\n",
       "  <tbody>\n",
       "    <tr>\n",
       "      <th>anime_nr</th>\n",
       "      <td>1.000000</td>\n",
       "      <td>0.500728</td>\n",
       "      <td>-0.064951</td>\n",
       "    </tr>\n",
       "    <tr>\n",
       "      <th>anime_w</th>\n",
       "      <td>0.500728</td>\n",
       "      <td>1.000000</td>\n",
       "      <td>0.831254</td>\n",
       "    </tr>\n",
       "    <tr>\n",
       "      <th>anime_r</th>\n",
       "      <td>-0.064951</td>\n",
       "      <td>0.831254</td>\n",
       "      <td>1.000000</td>\n",
       "    </tr>\n",
       "  </tbody>\n",
       "</table>\n",
       "</div>"
      ],
      "text/plain": [
       "          anime_nr   anime_w   anime_r\n",
       "anime_nr  1.000000  0.500728 -0.064951\n",
       "anime_w   0.500728  1.000000  0.831254\n",
       "anime_r  -0.064951  0.831254  1.000000"
      ]
     },
     "execution_count": 41,
     "metadata": {},
     "output_type": "execute_result"
    }
   ],
   "source": [
    "# n_users = 37128(~37k)\n",
    "#user_data[user_data['anime_w']>10000]\n"
   ]
  },
  {
   "cell_type": "code",
   "execution_count": null,
   "metadata": {
    "scrolled": true
   },
   "outputs": [],
   "source": [
    "\n",
    "#sns.lmplot('anime_w', 'anime_nr', user_data, fit_reg=False, )\n",
    "#sns.lmplot('anime_w', 'anime_r', user_data, fit_reg=False)\n",
    "#user_data.hist('anime_w', bins=25)\n",
    "user_data[user_data['anime_w'] > 2000].sort_values(by='anime_r', ascending=False)\n",
    "#user_data.plot()\n",
    "#user_anime_ids = \n",
    "user_anime_ids  = list(rating[rating['user_id']== 28521]['anime_id'])\n",
    "anime[anime.anime_id in user_anime_ids]\n",
    "#user_anime_list = anime.anime_id.isin(user_anime_ids)\n",
    "#user_anime_list"
   ]
  },
  {
   "cell_type": "markdown",
   "metadata": {},
   "source": [
    "## 3. Analyze, identify patterns, and explore the data.\n",
    "    - Exploratory Data Analysis\n",
    "    - Dimensionality Reduction using PCA\n",
    "    - Clustering using k-means\n",
    "    - Feature Extraction & Feature Selection"
   ]
  },
  {
   "cell_type": "code",
   "execution_count": 6,
   "metadata": {
    "collapsed": true,
    "scrolled": true
   },
   "outputs": [],
   "source": [
    "# feature selection\n",
    "genre_list = anime[\"genre\"].str.get_dummies(sep=\",\")\n",
    "genre_list.drop('1', axis=1,inplace=True)\n",
    "anime_features = pd.concat([genre_list,pd.get_dummies(anime[\"type\"]),anime[[\"rating\"]],anime[[\"members\"]],anime[\"episodes\"]],axis=1)"
   ]
  },
  {
   "cell_type": "code",
   "execution_count": 50,
   "metadata": {
    "collapsed": true
   },
   "outputs": [],
   "source": [
    "from sklearn.feature_extraction.text import CountVectorizer\n",
    "\n",
    "vectorizer = CountVectorizer(min_df=1)\n",
    "name_vec = list(vectorizer.fit_transform(anime['name']).toarray())\n"
   ]
  },
  {
   "cell_type": "code",
   "execution_count": 49,
   "metadata": {},
   "outputs": [
    {
     "data": {
      "text/plain": [
       "(array([    0,     0,     0, ..., 12293, 12293, 12293]),\n",
       " array([ 5463,  7154,  7530, ...,  8374, 11645, 11732]))"
      ]
     },
     "execution_count": 49,
     "metadata": {},
     "output_type": "execute_result"
    }
   ],
   "source": [
    "# remove entries with rating -1\n",
    "rating = rating[rating.rating != -1]\n",
    "rating.head()"
   ]
  },
  {
   "cell_type": "code",
   "execution_count": 12,
   "metadata": {
    "scrolled": false
   },
   "outputs": [
    {
     "data": {
      "text/plain": [
       "99.08278218350279"
      ]
     },
     "execution_count": 12,
     "metadata": {},
     "output_type": "execute_result"
    }
   ],
   "source": [
    "from scipy import sparse\n",
    "import implicit\n",
    "\n",
    "# creating user-item rating sparse matrix\n",
    "user_list = list(np.sort(rating.user_id.unique())) # Get our unique customers\n",
    "anime_list = list(rating.anime_id.unique()) # Get our unique products that were purchased\n",
    "rating_list = list(rating.rating) # All of our purchases\n",
    "\n",
    "rows = rating.user_id.astype('category', categories = user_list).cat.codes \n",
    "# Get the associated row indices\n",
    "cols = rating.anime_id.astype('category', categories = anime_list).cat.codes \n",
    "# Get the associated column indices\n",
    "rating_sparse = sparse.csr_matrix((rating_list, (rows, cols)), shape=(len(user_list), len(anime_list)))\n",
    "\n",
    "# calculating matrix sparsity\n",
    "matrix_size = rating_sparse.shape[0]*rating_sparse.shape[1] # Number of possible interactions in the matrix\n",
    "num_purchases = len(rating_sparse.nonzero()[0]) # Number of items interacted with\n",
    "sparsity = 100*(1 - (num_purchases/float(matrix_size)))\n",
    "sparsity\n",
    "\n",
    "\n",
    "\n",
    "#rating.pivot(index='anime_id', columns='user_id', values='rating')\n",
    "#n_users = rating.user_id.nunique()\n",
    "#n_anime = rating.anime_id.nunique()\n",
    "\n",
    "#print(\"users: \" + str(n_users) + \" x  Anime: \" + str(n_anime))\n",
    "#rating.shape\n",
    "\n"
   ]
  },
  {
   "cell_type": "code",
   "execution_count": 11,
   "metadata": {},
   "outputs": [
    {
     "name": "stderr",
     "output_type": "stream",
     "text": [
      "No handlers could be found for logger \"implicit\"\n"
     ]
    }
   ],
   "source": [
    "alpha = 15\n",
    "user_vecs, item_vecs = implicit.alternating_least_squares((rating_sparse*alpha).astype('double'), \n",
    "                                                          factors=20, \n",
    "                                                          regularization = 0.1, \n",
    "                                                         iterations = 50)"
   ]
  },
  {
   "cell_type": "code",
   "execution_count": 38,
   "metadata": {},
   "outputs": [
    {
     "data": {
      "text/html": [
       "<div>\n",
       "<style>\n",
       "    .dataframe thead tr:only-child th {\n",
       "        text-align: right;\n",
       "    }\n",
       "\n",
       "    .dataframe thead th {\n",
       "        text-align: left;\n",
       "    }\n",
       "\n",
       "    .dataframe tbody tr th {\n",
       "        vertical-align: top;\n",
       "    }\n",
       "</style>\n",
       "<table border=\"1\" class=\"dataframe\">\n",
       "  <thead>\n",
       "    <tr style=\"text-align: right;\">\n",
       "      <th></th>\n",
       "      <th>anime_id</th>\n",
       "      <th>name</th>\n",
       "      <th>genre</th>\n",
       "      <th>type</th>\n",
       "      <th>episodes</th>\n",
       "      <th>rating</th>\n",
       "      <th>members</th>\n",
       "    </tr>\n",
       "  </thead>\n",
       "  <tbody>\n",
       "    <tr>\n",
       "      <th>724</th>\n",
       "      <td>15451</td>\n",
       "      <td>High School DxD New</td>\n",
       "      <td>Action, Comedy, Demons, Ecchi, Harem, Romance,...</td>\n",
       "      <td>TV</td>\n",
       "      <td>12</td>\n",
       "      <td>7.87</td>\n",
       "      <td>266657</td>\n",
       "    </tr>\n",
       "    <tr>\n",
       "      <th>804</th>\n",
       "      <td>11757</td>\n",
       "      <td>Sword Art Online</td>\n",
       "      <td>Action, Adventure, Fantasy, Game, Romance</td>\n",
       "      <td>TV</td>\n",
       "      <td>25</td>\n",
       "      <td>7.83</td>\n",
       "      <td>893100</td>\n",
       "    </tr>\n",
       "    <tr>\n",
       "      <th>1057</th>\n",
       "      <td>11617</td>\n",
       "      <td>High School DxD</td>\n",
       "      <td>Comedy, Demons, Ecchi, Harem, Romance, School</td>\n",
       "      <td>TV</td>\n",
       "      <td>12</td>\n",
       "      <td>7.70</td>\n",
       "      <td>398660</td>\n",
       "    </tr>\n",
       "    <tr>\n",
       "      <th>1709</th>\n",
       "      <td>8074</td>\n",
       "      <td>Highschool of the Dead</td>\n",
       "      <td>Action, Ecchi, Horror, Supernatural</td>\n",
       "      <td>TV</td>\n",
       "      <td>12</td>\n",
       "      <td>7.46</td>\n",
       "      <td>535892</td>\n",
       "    </tr>\n",
       "  </tbody>\n",
       "</table>\n",
       "</div>"
      ],
      "text/plain": [
       "      anime_id                    name  \\\n",
       "724      15451     High School DxD New   \n",
       "804      11757        Sword Art Online   \n",
       "1057     11617         High School DxD   \n",
       "1709      8074  Highschool of the Dead   \n",
       "\n",
       "                                                  genre type episodes  rating  \\\n",
       "724   Action, Comedy, Demons, Ecchi, Harem, Romance,...   TV       12    7.87   \n",
       "804           Action, Adventure, Fantasy, Game, Romance   TV       25    7.83   \n",
       "1057      Comedy, Demons, Ecchi, Harem, Romance, School   TV       12    7.70   \n",
       "1709                Action, Ecchi, Horror, Supernatural   TV       12    7.46   \n",
       "\n",
       "      members  \n",
       "724    266657  \n",
       "804    893100  \n",
       "1057   398660  \n",
       "1709   535892  "
      ]
     },
     "execution_count": 38,
     "metadata": {},
     "output_type": "execute_result"
    }
   ],
   "source": [
    "anime[anime.anime_id.isin(rating[rating['user_id']==1]['anime_id'])]\n",
    "#rating[rating.user_id == 1]"
   ]
  },
  {
   "cell_type": "markdown",
   "metadata": {},
   "source": [
    "#### Observation:\n",
    "    - in order to perform CF on full dataset, we require matrix of 7.8m x 7.8m \n",
    "    options:\n",
    "        i) take sample dataset to perform CF\n",
    "            - animes rated by a specific number of users (i.e. n> 50: to reduce dataset but increase user behavior detection\n",
    "        ii) find a way to reduce matrix or handle large matrix in python\n",
    "            - PyTable : to store tables on disk\n",
    "            - Scipy : sparse matrix"
   ]
  },
  {
   "cell_type": "markdown",
   "metadata": {},
   "source": [
    "### Data Mining\n",
    "\n",
    "Idea:\n",
    "    - split genres using dummies variables\n",
    "    - perform eigen vector analysis to find out PC count\n",
    "    - perform PCA with n_components\n",
    "    - combine transformed matrix with rest of the features (i.e. type, rating, member, name, count)\n",
    "    \n",
    "    does it work any better?"
   ]
  },
  {
   "cell_type": "markdown",
   "metadata": {
    "collapsed": true
   },
   "source": [
    "### Dimensionality Reduction \n",
    "    - using eigen decomposition"
   ]
  },
  {
   "cell_type": "code",
   "execution_count": 16,
   "metadata": {
    "collapsed": true
   },
   "outputs": [],
   "source": [
    "# Calculating Eigenvectors and eigenvalues  Cov matirx\n",
    "feature_mat = anime_features_scaler # genre_list\n",
    "mean_vec = np.mean(feature_mat, axis=0)\n",
    "cov_mat = np.cov(feature_mat.T)\n",
    "eig_vals, eig_vecs = np.linalg.eig(cov_mat)\n",
    "\n",
    "# Creating a list of (eigenval, eigenvec) tuples\n",
    "eig_pairs = [(np.abs(eig_vals[i]),eig_vecs[:,i]) for i in range(len(eig_vals))]\n",
    "\n",
    "# Sort from high to low\n",
    "eig_pairs.sort(key = lambda x: x[0], reverse= True)\n",
    "\n",
    "tot = sum(eig_vals)\n",
    "\n",
    "exp_var = [ (i/tot)*100 for i in sorted(eig_vals,reverse=True)]\n",
    "\n",
    "cum_exp_var = np.cumsum(exp_var)\n",
    "len(exp_var)"
   ]
  },
  {
   "cell_type": "code",
   "execution_count": 21,
   "metadata": {},
   "outputs": [
    {
     "data": {
      "image/png": "[encoded data removed]",
      "text/plain": [
       "<matplotlib.figure.Figure at 0x7f6bebcd4610>"
      ]
     },
     "metadata": {},
     "output_type": "display_data"
    }
   ],
   "source": [
    "# PLOT OUT THE EXPLAINED VARIANCES SUPERIMPOSED \n",
    "plt.figure(figsize=(10, 5))\n",
    "plt.bar(range(len(exp_var)), exp_var, alpha=0.3333, align='center', label='individual explained variance', color = 'g')\n",
    "plt.step(range(len(exp_var)), np.cumsum(exp_var), where='mid',label='cumulative explained variance')\n",
    "plt.ylabel('Explained variance ratio')\n",
    "plt.xlabel('Principal components')\n",
    "plt.legend(loc='best')\n",
    "plt.show()"
   ]
  },
  {
   "cell_type": "code",
   "execution_count": 136,
   "metadata": {
    "collapsed": true
   },
   "outputs": [],
   "source": [
    "# from above chart we can see about 50 PCs will cover 95% data\n",
    "\n",
    "# EDA using Unsupervised techniques\n",
    "# imports\n",
    "import matplotlib.pyplot as plt\n",
    "import pandas as pd\n",
    "\n",
    "from sklearn.decomposition import PCA as sklearnPCA\n",
    "from sklearn.discriminant_analysis import LinearDiscriminantAnalysis as LDA\n",
    "from sklearn import kernel_approximation\n",
    "\n",
    "from pandas.plotting import parallel_coordinates"
   ]
  },
  {
   "cell_type": "code",
   "execution_count": null,
   "metadata": {
    "collapsed": true
   },
   "outputs": [],
   "source": [
    "# kernel_approximation.\n",
    "\n",
    "feat_mat = anime_features_scaler\n",
    "pca = sklearnPCA(n_components=92)\n",
    "rpca = sklearnPCA(n_components=92, svd_solver='randomized')\n",
    "lda = LDA(n_components=92)\n",
    "#transformed = pca.fit_transform(MaxAbsScaler().fit_transform(genre_feature))\n",
    "transformed = pca.fit_transform(feat_mat)\n",
    "transformed = rpca.fit_transform(feat_mat)\n",
    "\n",
    "#headmap to show correlation of pca.components_ with original columns\n",
    "#df_comp = pd.DataFrame(pca.components_,columns=feat_mat.columns)\n",
    "#plt.figure(figsize=(20,8))\n",
    "#sns.heatmap(df_comp,cmap='plasma',)\n",
    "#sns.clustermap(df_comp,cmap='plasma',)"
   ]
  },
  {
   "cell_type": "code",
   "execution_count": 41,
   "metadata": {
    "scrolled": true
   },
   "outputs": [
    {
     "data": {
      "image/png": "[encoded data removed]",
      "text/plain": [
       "<matplotlib.figure.Figure at 0x7f6be92baa90>"
      ]
     },
     "metadata": {},
     "output_type": "display_data"
    }
   ],
   "source": [
    "# PLOT OUT THE EXPLAINED VARIANCES SUPERIMPOSED \n",
    "plt.figure(figsize=(10, 5))\n",
    "plt.bar(range(len(rpca.explained_variance_)), rpca.explained_variance_, alpha=0.3333, align='center', label='individual explained variance', color = 'g')\n",
    "plt.step(range(len(rpca.explained_variance_)), np.cumsum(rpca.explained_variance_), where='mid',label='cumulative explained variance')\n",
    "plt.ylabel('Explained variance ratio')\n",
    "plt.xlabel('Principal components')\n",
    "plt.legend(loc='best')\n",
    "plt.show()"
   ]
  },
  {
   "cell_type": "code",
   "execution_count": 24,
   "metadata": {
    "collapsed": true,
    "scrolled": true
   },
   "outputs": [],
   "source": [
    "# Set up the matplotlib figure\n",
    "f, ax = plt.subplots(figsize=(14, 14))\n",
    "plt.title('Pearson Correlation of Movie Features')\n",
    "# Draw the heatmap using seaborn\n",
    "sns.heatmap(pd.DataFrame(transformed).astype(float).corr(),vmax=1.0, square=True, cmap=\"YlGnBu\", linecolor='black', annot=True)"
   ]
  },
  {
   "cell_type": "code",
   "execution_count": 176,
   "metadata": {
    "scrolled": true
   },
   "outputs": [
    {
     "data": {
      "text/plain": [
       "<matplotlib.collections.PathCollection at 0x7f42916fe4d0>"
      ]
     },
     "execution_count": 176,
     "metadata": {},
     "output_type": "execute_result"
    },
    {
     "data": {
      "image/png": "[encoded data removed]",
      "text/plain": [
       "<matplotlib.figure.Figure at 0x7f429177c750>"
      ]
     },
     "metadata": {},
     "output_type": "display_data"
    }
   ],
   "source": [
    "#sns.plt.scatter(pca.components_[1], pca.components_[4])\n",
    "sns.plt.scatter(transformed[:,1], transformed[:,2],c='r',alpha=0.5)\n",
    "#sns.plt.scatter(transformed[:,1], transformed[:,2],c='b',alpha=0.5)\n"
   ]
  },
  {
   "cell_type": "code",
   "execution_count": null,
   "metadata": {
    "collapsed": true
   },
   "outputs": [],
   "source": [
    "predictions = model.predict(test_user_ids,\n",
    "                            test_item_ids,\n",
    "                            user_features=user_features,\n",
    "                            item_features=item_features)"
   ]
  },
  {
   "cell_type": "code",
   "execution_count": 56,
   "metadata": {
    "collapsed": true
   },
   "outputs": [],
   "source": [
    "plt.figure(figsize=(14, 10))\n",
    "plt.title('Explained Variance Ratio over Component')\n",
    "plt.plot(pca.explained_variance_ratio_)\n"
   ]
  },
  {
   "cell_type": "code",
   "execution_count": 177,
   "metadata": {
    "scrolled": true
   },
   "outputs": [
    {
     "data": {
      "text/plain": [
       "<matplotlib.collections.PathCollection at 0x7f42915d4ed0>"
      ]
     },
     "execution_count": 177,
     "metadata": {},
     "output_type": "execute_result"
    },
    {
     "data": {
      "image/png": "[encoded data removed]",
      "text/plain": [
       "<matplotlib.figure.Figure at 0x7f429177ce10>"
      ]
     },
     "metadata": {},
     "output_type": "display_data"
    }
   ],
   "source": [
    "plt.scatter(transformed[genre_feature['Comedy']==1,0],transformed[genre_feature['Comedy']==1,1], c='r')\n",
    "plt.scatter(transformed[genre_feature['Action']==1,0],transformed[genre_feature['Action']==1,1], c='g')\n",
    "plt.scatter(transformed[(genre_feature['Comedy']==0) & (genre_feature['Action']==0) & (genre_feature['Sci-Fi']==0),0],transformed[(genre_feature['Comedy']==0) & (genre_feature['Action']==0) & (genre_feature['Sci-Fi']==0),1], c='y')\n",
    "\n",
    "plt.scatter(transformed[genre_feature['Sci-Fi']==1,0],transformed[genre_feature['Sci-Fi']==1,1], c='b')\n"
   ]
  },
  {
   "cell_type": "code",
   "execution_count": 164,
   "metadata": {
    "collapsed": true
   },
   "outputs": [],
   "source": [
    "# KMeans clustering\n",
    "from sklearn.cluster import KMeans\n",
    "kmeans = KMeans(n_clusters = 10)\n",
    "kmeans.fit(transformed)\n",
    "labels = kmeans.labels_"
   ]
  },
  {
   "cell_type": "code",
   "execution_count": 184,
   "metadata": {
    "collapsed": true,
    "scrolled": false
   },
   "outputs": [],
   "source": [
    "pcs_df = pd.DataFrame(transformed)[[3,4,5,10]]\n",
    "pcs_df['c_labels'] = labels"
   ]
  },
  {
   "cell_type": "code",
   "execution_count": 55,
   "metadata": {
    "collapsed": true,
    "scrolled": false
   },
   "outputs": [],
   "source": [
    "sns.pairplot(pcs_df, hue='c_labels', palette= 'Dark2', diag_kind='kde',size=1.85)\n",
    "# plt.scatter(transformed[:,0], transformed[:,1], c=labels, cmap='rainbow', alpha=0.5)"
   ]
  },
  {
   "cell_type": "markdown",
   "metadata": {},
   "source": [
    "#### Feature Selection\n",
    "    Create different feature vectors and matrix required to build models in section 4.\n",
    "    \n",
    "    There are almost 70k users and 10k anime. Creating a user-item rating matrix would result in a large and very sparse matrix of 70k x 10k. To efficient use resources I'll be using scipy's sparse matrix."
   ]
  },
  {
   "cell_type": "code",
   "execution_count": 56,
   "metadata": {},
   "outputs": [
    {
     "name": "stdout",
     "output_type": "stream",
     "text": [
      "Matrix sparsity: 99.0827821835\n"
     ]
    }
   ],
   "source": [
    "from scipy import sparse\n",
    "\n",
    "# Create user-item rating sparse matrix\n",
    "\n",
    "# Get unique user_id\n",
    "user_list = list(np.sort(rating.user_id.unique())) \n",
    "\n",
    "# Get unique anime_id\n",
    "anime_list = list(rating.anime_id.unique())  \n",
    "\n",
    "# Get Anime ratings\n",
    "rating_list = rating.rating.tolist() \n",
    "\n",
    "# Get the associated row indices\n",
    "rows = rating.user_id.astype('category', categories = user_list).cat.codes \n",
    "\n",
    "# Get the associated column indices\n",
    "cols = rating.anime_id.astype('category', categories = anime_list).cat.codes \n",
    "\n",
    "\n",
    "rating_sparse = sparse.csr_matrix((rating_list, (rows, cols)), shape=(len(user_list), len(anime_list)))\n",
    "\n",
    "# calculating matrix sparsity\n",
    "matrix_size = rating_sparse.shape[0]*rating_sparse.shape[1] # Number of possible interactions in the matrix\n",
    "num_ratings = len(rating_sparse.nonzero()[0]) # Number of anime interacted with\n",
    "sparsity = 100*(1 - (num_ratings/float(matrix_size)))\n",
    "print(\"Matrix sparsity: \" + str(sparsity))\n"
   ]
  },
  {
   "cell_type": "markdown",
   "metadata": {},
   "source": [
    "## 4. Model, predict/recommendation.\n",
    "    In this section I will try to create different models for recommendation system using different techniques from Data Mining."
   ]
  },
  {
   "cell_type": "markdown",
   "metadata": {},
   "source": [
    "###    4.1. Memory Based Filtering\n",
    "    Definition of memory based filtering system"
   ]
  },
  {
   "cell_type": "markdown",
   "metadata": {},
   "source": [
    "####        4.1.1 Content Based Recommendation\n",
    "        - comparing similarity between different items' charactistics.\n",
    "        - item-item recommendation using item's features covariance matrix for calculating similarity.\n",
    "\n",
    "    Procedure:\n",
    "        - Normalize feature set \n",
    "        - Create similarity matrix\n",
    "        - Generate recommendation based on top similar items.\n",
    "            "
   ]
  },
  {
   "cell_type": "code",
   "execution_count": 52,
   "metadata": {
    "collapsed": true,
    "scrolled": true
   },
   "outputs": [],
   "source": [
    "# features scaling\n",
    "from sklearn.preprocessing import StandardScaler\n",
    "\n",
    "# genre_list_std = pd.DataFrame(StandardScaler().fit_transform(genre_list))  # no need, same scale features\n",
    "anime_features_scaler = pd.DataFrame(StandardScaler().fit_transform(anime_features))\n",
    "#anime_features_scaler.head()\n"
   ]
  },
  {
   "cell_type": "code",
   "execution_count": 53,
   "metadata": {
    "collapsed": true,
    "scrolled": true
   },
   "outputs": [],
   "source": [
    "# item-item similarity based on item's attributes\n",
    "from sklearn.metrics.pairwise import cosine_similarity\n",
    "#from sklearn.metrics import jaccard_similarity_score\n",
    "\n",
    "#print(jaccard_similarity_score(anime_features_scaler.iloc[2877], anime_features_scaler.iloc[159]))\n",
    "sim_mat = cosine_similarity(anime_features_scaler)\n",
    "sim_mat"
   ]
  },
  {
   "cell_type": "code",
   "execution_count": 10,
   "metadata": {
    "collapsed": true
   },
   "outputs": [],
   "source": [
    "# to get anime IDs from partial name\n",
    "all_anime_names = list(anime.name.values)\n",
    "def get_id_from_partial_name(partial):\n",
    "    for name in all_anime_names:\n",
    "        if partial in name:\n",
    "            print(name,all_anime_names.index(name))"
   ]
  },
  {
   "cell_type": "code",
   "execution_count": 11,
   "metadata": {
    "scrolled": false
   },
   "outputs": [
    {
     "name": "stdout",
     "output_type": "stream",
     "text": [
      "('Akihabara Dennou-gumi: 2011-nen no Natsuyasumi', 3602)\n",
      "('Akihabara Dennou-gumi', 4430)\n"
     ]
    }
   ],
   "source": [
    "get_id_from_partial_name(\"Akih\")"
   ]
  },
  {
   "cell_type": "code",
   "execution_count": 54,
   "metadata": {
    "collapsed": true
   },
   "outputs": [],
   "source": [
    "# sim_mat.shape\n",
    "def getSimilarItems(item, similarity_matrix, no_of_rec=5):\n",
    "    sorted_items = np.argsort(similarity_matrix[item])\n",
    "    reverse_sorted_items = sorted_items[::-1].tolist()\n",
    "    top_items = reverse_sorted_items[1:no_of_rec+1]\n",
    "    top_items_name = [anime.iloc[x]['name'] for x in top_items]\n",
    "    return top_items_name[:no_of_rec]"
   ]
  },
  {
   "cell_type": "markdown",
   "metadata": {},
   "source": [
    "#### Generating Recommendations:"
   ]
  },
  {
   "cell_type": "code",
   "execution_count": 15,
   "metadata": {
    "scrolled": false
   },
   "outputs": [
    {
     "name": "stdout",
     "output_type": "stream",
     "text": [
      "('Katekyo Hitman Reborn!', 175)\n",
      "('Katekyo Hitman Reborn! Special', 997)\n",
      "('Katekyo Hitman Reborn!: Mr. Rebokku no Ciao Ciao Interview', 1311)\n",
      "('Katekyo Hitman Reborn! x \\xc4\\x93lDLIVE Special', 3024)\n"
     ]
    }
   ],
   "source": [
    "get_id_from_partial_name('Rebor')"
   ]
  },
  {
   "cell_type": "code",
   "execution_count": 11,
   "metadata": {
    "scrolled": true
   },
   "outputs": [
    {
     "data": {
      "text/plain": [
       "['Bleach',\n",
       " 'Hunter x Hunter (2011)',\n",
       " 'Boku no Hero Academia',\n",
       " 'Naruto',\n",
       " 'One Piece']"
      ]
     },
     "execution_count": 11,
     "metadata": {},
     "output_type": "execute_result"
    }
   ],
   "source": [
    "getSimilarItems(175, sim_mat)"
   ]
  },
  {
   "cell_type": "code",
   "execution_count": 11,
   "metadata": {
    "scrolled": true
   },
   "outputs": [
    {
     "name": "stdout",
     "output_type": "stream",
     "text": [
      "Mushishi\n",
      "Mushishi Zoku Shou\n",
      "Mushishi Zoku Shou 2nd Season\n",
      "Mushishi Special: Hihamukage\n",
      "Mushishi Zoku Shou: Suzu no Shizuku\n",
      "Mushishi Zoku Shou: Odoro no Michi\n",
      "Baccano!\n",
      "Pandora Hearts\n",
      "Baccano! Specials\n",
      "Bungou Stray Dogs\n"
     ]
    }
   ],
   "source": [
    "naruto = pd.Series(sim_mat[28])\n",
    "naruto_sort = naruto.sort_values(ascending=False)\n",
    "for i in range(10):\n",
    "    print(anime.iloc[naruto_sort.index[i]]['name'])\n",
    "    \n",
    "# we should try to match to accuracy of content based system by:\n",
    "#  - get top n recommendations for anime (i.e. naruto)\n",
    "#  - search for a user who have watch naruto and rated it high\n",
    "#  - we can now compare recommendations with list of anime's user has watched and how he has rated (if any match exists)\n"
   ]
  },
  {
   "cell_type": "markdown",
   "metadata": {},
   "source": [
    "##### Content Based RS Observation:\n",
    "    - we have a matrix of (observations, features) = (12294, 93)\n",
    "    - in order to generate recommendations we had to find similarities of each item against all other items.\n",
    "    - which result in a 12294 x 12294 similarity matrix (151142436 similarity values)\n",
    "   "
   ]
  },
  {
   "cell_type": "markdown",
   "metadata": {},
   "source": [
    "#### 4.1.2 Collaborative Filtering \n",
    "            - Generate recommendation by finding user's with similar taste using explicit feedback (user-item rating matrix)\n",
    "            \n",
    "    Procedure:\n",
    "        - get user-item ratings sparse matrix (70k x 10k)\n",
    "        - find similar users to our current user and recommend item they rated highly.\n",
    "        Options:\n",
    "            i) Generate a users similarity matrix of size 70k x 70k (too large for normal memory)\n",
    "            ii) Nearest Neighbors\n",
    "        \n",
    "            \n",
    "            ref link: https://medium.com/ml-algorithms/collaborative-filtering-in-python-56e7fe9a5a8d\n",
    "        \n",
    "         \n",
    "         "
   ]
  },
  {
   "cell_type": "code",
   "execution_count": null,
   "metadata": {
    "collapsed": true,
    "scrolled": true
   },
   "outputs": [],
   "source": [
    "from sklearn.preprocessing import StandardScaler\n",
    "# user-user similarity based on ratings\n",
    "from sklearn.metrics.pairwise import cosine_similarity\n",
    "#from sklearn.metrics import jaccard_similarity_score\n",
    "from sklearn.neighbors import NearestNeighbors\n",
    "\n",
    "nbrs = NearestNeighbors(n_neighbors=5)\n",
    "nbrs.fit(rating_sparse)\n",
    "\n",
    "\n",
    "distances, indices = nbrs.kneighbors(rating_sparse)\n",
    "\n"
   ]
  },
  {
   "cell_type": "code",
   "execution_count": null,
   "metadata": {
    "scrolled": true
   },
   "outputs": [],
   "source": []
  },
  {
   "cell_type": "raw",
   "metadata": {},
   "source": []
  }
 ],
 "metadata": {
  "kernelspec": {
   "display_name": "Python 3",
   "language": "python",
   "name": "python3"
  },
  "language_info": {
   "codemirror_mode": {
    "name": "ipython",
    "version": 2
   },
   "file_extension": ".py",
   "mimetype": "text/x-python",
   "name": "python",
   "nbconvert_exporter": "python",
   "pygments_lexer": "ipython2",
   "version": "2.7.13"
  }
 },
 "nbformat": 4,
 "nbformat_minor": 2
}
